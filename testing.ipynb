{
 "cells": [
  {
   "cell_type": "code",
   "execution_count": 2,
   "metadata": {},
   "outputs": [],
   "source": [
    "from utils.chunk import *"
   ]
  },
  {
   "cell_type": "code",
   "execution_count": 3,
   "metadata": {},
   "outputs": [
    {
     "name": "stdout",
     "output_type": "stream",
     "text": [
      "\t.file\t\"main.c\"\n",
      "\t.section\t.rodata\n",
      ".LC0:\n",
      "\t.string\t\"You are awesome\"\n",
      "\t.text\n",
      "\t.globl\tmain\n",
      "\t.type\tmain, @function\n",
      "main:\n",
      ".LFB0:\n",
      "\t.cfi_startproc\n",
      "\tpushq\t%rbp\n",
      "\t.cfi_def_cfa_offset 16\n",
      "\t.cfi_offset 6, -16\n",
      "\tmovq\t%rsp, %rbp\n",
      "\t.cfi_def_cfa_register 6\n",
      "\tleaq\t.LC0(%rip), %rdi\n",
      "\tmovl\t$0, %eax\n",
      "\tcall\tprintf@PLT\n",
      "\tmovl\t$0, %eax\n",
      "\tpopq\t%rbp\n",
      "\t.cfi_def_cfa 7, 8\n",
      "\tret\n",
      "\t.cfi_endproc\n",
      ".LFE0:\n",
      "\t.size\tmain, .-main\n",
      "\t.ident\t\"GCC: (Debian 6.3.0-18+deb9u1) 6.3.0 20170516\"\n",
      "\t.section\t.note.GNU-stack,\"\",@progbits\n",
      "\n"
     ]
    }
   ],
   "source": [
    "with open(\"O0.s\") as f: \n",
    "    assembly = f.read()\n",
    "print(assembly)"
   ]
  },
  {
   "cell_type": "code",
   "execution_count": 4,
   "metadata": {},
   "outputs": [],
   "source": [
    "funs = function_names(\"O0\", assembly)"
   ]
  },
  {
   "cell_type": "code",
   "execution_count": 5,
   "metadata": {},
   "outputs": [
    {
     "data": {
      "text/plain": [
       "['main']"
      ]
     },
     "execution_count": 5,
     "metadata": {},
     "output_type": "execute_result"
    }
   ],
   "source": [
    "funs"
   ]
  },
  {
   "cell_type": "code",
   "execution_count": 6,
   "metadata": {},
   "outputs": [
    {
     "data": {
      "text/plain": [
       "{'main': '.LFB0:\\n\\t.cfi_startproc\\n\\tpushq\\t%rbp\\n\\t.cfi_def_cfa_offset 16\\n\\t.cfi_offset 6, -16\\n\\tmovq\\t%rsp, %rbp\\n\\t.cfi_def_cfa_register 6\\n\\tleaq\\t.LC0(%rip), %rdi\\n\\tmovl\\t$0, %eax\\n\\tcall\\tprintf@PLT\\n\\tmovl\\t$0, %eax\\n\\tpopq\\t%rbp\\n\\t.cfi_def_cfa 7, 8\\n\\tret\\n\\t.cfi_endproc\\n.LFE0:\\n\\t.size\\tmain, .-main\\n\\t.ident\\t\"GCC: (Debian 6.3.0-18+deb9u1) 6.3.0 20170516\"\\n\\t.section\\t.note.GNU-stack,\"\",@progbits\\n'}"
      ]
     },
     "execution_count": 6,
     "metadata": {},
     "output_type": "execute_result"
    }
   ],
   "source": [
    "chunks = chunk_assembly(funs, assembly)\n",
    "chunks"
   ]
  },
  {
   "cell_type": "code",
   "execution_count": 7,
   "metadata": {},
   "outputs": [
    {
     "name": "stdout",
     "output_type": "stream",
     "text": [
      ".LFB0:\n",
      "\t.cfi_startproc\n",
      "\tpushq\t%rbp\n",
      "\t.cfi_def_cfa_offset 16\n",
      "\t.cfi_offset 6, -16\n",
      "\tmovq\t%rsp, %rbp\n",
      "\t.cfi_def_cfa_register 6\n",
      "\tleaq\t.LC0(%rip), %rdi\n",
      "\tmovl\t$0, %eax\n",
      "\tcall\tprintf@PLT\n",
      "\tmovl\t$0, %eax\n",
      "\tpopq\t%rbp\n",
      "\t.cfi_def_cfa 7, 8\n",
      "\tret\n",
      "\t.cfi_endproc\n",
      ".LFE0:\n",
      "\t.size\tmain, .-main\n",
      "\t.ident\t\"GCC: (Debian 6.3.0-18+deb9u1) 6.3.0 20170516\"\n",
      "\t.section\t.note.GNU-stack,\"\",@progbits\n",
      "\n"
     ]
    }
   ],
   "source": [
    "print(chunks[\"main\"])"
   ]
  },
  {
   "cell_type": "code",
   "execution_count": 8,
   "metadata": {},
   "outputs": [],
   "source": [
    "from utils.Tokenizer import *"
   ]
  },
  {
   "cell_type": "code",
   "execution_count": 10,
   "metadata": {},
   "outputs": [],
   "source": [
    "instructions = read_instructions(\"x86_instruction_set.csv\")\n",
    "split_regexp = split_regex(instructions)\n",
    "tokenized_results = tokenize_assembly(chunks[\"main\"], split_regexp, instructions, filter_fun)"
   ]
  },
  {
   "cell_type": "code",
   "execution_count": 11,
   "metadata": {},
   "outputs": [
    {
     "data": {
      "text/plain": [
       "['push',\n",
       " 'q',\n",
       " '%rbp',\n",
       " 'mov',\n",
       " 'q',\n",
       " '%rsp,',\n",
       " '%rbp',\n",
       " 'lea',\n",
       " 'q',\n",
       " 'mov',\n",
       " 'l',\n",
       " '$',\n",
       " '0',\n",
       " ',',\n",
       " '%eax',\n",
       " 'call',\n",
       " 'p',\n",
       " 'r',\n",
       " 'i',\n",
       " 'n',\n",
       " 't',\n",
       " 'f',\n",
       " '@',\n",
       " 'P',\n",
       " 'L',\n",
       " 'T',\n",
       " 'mov',\n",
       " 'l',\n",
       " '$',\n",
       " '0',\n",
       " ',',\n",
       " '%eax',\n",
       " 'pop',\n",
       " 'q',\n",
       " '%rbp',\n",
       " 'ret']"
      ]
     },
     "execution_count": 11,
     "metadata": {},
     "output_type": "execute_result"
    }
   ],
   "source": [
    "tokenized_results"
   ]
  },
  {
   "cell_type": "code",
   "execution_count": 15,
   "metadata": {},
   "outputs": [
    {
     "name": "stdout",
     "output_type": "stream",
     "text": [
      "['(?<=(\\n))main(?=:\\n)']\n"
     ]
    }
   ],
   "source": [
    "function2def = {}\n",
    "fun_regex = [\"(?<=(\\n)){}(?=:\\n)\".format(fun) for fun in funs]\n",
    "match_iterator = re.finditer(\"|\".join(fun_regex), assembly)\n",
    "print(fun_regex)"
   ]
  },
  {
   "cell_type": "code",
   "execution_count": 11,
   "metadata": {},
   "outputs": [],
   "source": [
    "match = next(match_iterator)"
   ]
  },
  {
   "cell_type": "code",
   "execution_count": 12,
   "metadata": {},
   "outputs": [
    {
     "data": {
      "text/plain": [
       "<re.Match object; span=(110, 114), match='main'>"
      ]
     },
     "execution_count": 12,
     "metadata": {},
     "output_type": "execute_result"
    }
   ],
   "source": [
    "match"
   ]
  },
  {
   "cell_type": "code",
   "execution_count": 9,
   "metadata": {},
   "outputs": [],
   "source": [
    "function = match.group()"
   ]
  },
  {
   "cell_type": "code",
   "execution_count": 10,
   "metadata": {},
   "outputs": [],
   "source": [
    "start = match.end(0)"
   ]
  },
  {
   "cell_type": "code",
   "execution_count": 11,
   "metadata": {},
   "outputs": [
    {
     "data": {
      "text/plain": [
       "'main'"
      ]
     },
     "execution_count": 11,
     "metadata": {},
     "output_type": "execute_result"
    }
   ],
   "source": [
    "function"
   ]
  },
  {
   "cell_type": "code",
   "execution_count": 12,
   "metadata": {},
   "outputs": [
    {
     "data": {
      "text/plain": [
       "12"
      ]
     },
     "execution_count": 12,
     "metadata": {},
     "output_type": "execute_result"
    }
   ],
   "source": [
    "start"
   ]
  },
  {
   "cell_type": "code",
   "execution_count": 13,
   "metadata": {},
   "outputs": [
    {
     "data": {
      "text/plain": [
       "8"
      ]
     },
     "execution_count": 13,
     "metadata": {},
     "output_type": "execute_result"
    }
   ],
   "source": [
    "match.start(0)"
   ]
  },
  {
   "cell_type": "code",
   "execution_count": 14,
   "metadata": {},
   "outputs": [
    {
     "data": {
      "text/plain": [
       "12"
      ]
     },
     "execution_count": 14,
     "metadata": {},
     "output_type": "execute_result"
    }
   ],
   "source": [
    "start"
   ]
  },
  {
   "cell_type": "code",
   "execution_count": null,
   "metadata": {},
   "outputs": [],
   "source": [
    "function2def[function] = assembly[start:match.start(0)]"
   ]
  },
  {
   "cell_type": "code",
   "execution_count": 25,
   "metadata": {},
   "outputs": [
    {
     "data": {
      "text/plain": [
       "[]"
      ]
     },
     "execution_count": 25,
     "metadata": {},
     "output_type": "execute_result"
    }
   ],
   "source": [
    "[match for match in match_iterator]"
   ]
  },
  {
   "cell_type": "code",
   "execution_count": 16,
   "metadata": {},
   "outputs": [
    {
     "name": "stdout",
     "output_type": "stream",
     "text": [
      "function is main and start is 114\n"
     ]
    }
   ],
   "source": [
    "match = next(match_iterator)\n",
    "function = match.group()\n",
    "start = match.end(0)\n",
    "print(f\"function is {function} and start is {start}\")\n",
    "\n",
    "\n",
    "for match in match_iterator: \n",
    "    print(\"entered loop\")\n",
    "    function2def[function] = raw_assembly[start: match.start(0)]\n",
    "    function = match.group(0)\n",
    "    start = match.end(0)\n",
    "\n",
    "function2def[function] = re.sub(\"^:\\s+\", \"\",assembly[start:])"
   ]
  },
  {
   "cell_type": "code",
   "execution_count": 17,
   "metadata": {},
   "outputs": [
    {
     "name": "stdout",
     "output_type": "stream",
     "text": [
      ".LFB0:\n",
      "\t.cfi_startproc\n",
      "\tpushq\t%rbp\n",
      "\t.cfi_def_cfa_offset 16\n",
      "\t.cfi_offset 6, -16\n",
      "\tmovq\t%rsp, %rbp\n",
      "\t.cfi_def_cfa_register 6\n",
      "\tleaq\t.LC0(%rip), %rdi\n",
      "\tmovl\t$0, %eax\n",
      "\tcall\tprintf@PLT\n",
      "\tmovl\t$0, %eax\n",
      "\tpopq\t%rbp\n",
      "\t.cfi_def_cfa 7, 8\n",
      "\tret\n",
      "\t.cfi_endproc\n",
      ".LFE0:\n",
      "\t.size\tmain, .-main\n",
      "\t.ident\t\"GCC: (Debian 6.3.0-18+deb9u1) 6.3.0 20170516\"\n",
      "\t.section\t.note.GNU-stack,\"\",@progbits\n",
      "\n"
     ]
    }
   ],
   "source": [
    "print(function2def[\"main\"])"
   ]
  },
  {
   "cell_type": "code",
   "execution_count": 34,
   "metadata": {},
   "outputs": [
    {
     "name": "stdout",
     "output_type": "stream",
     "text": [
      "\t.file\t\"main.c\"\n",
      "\t.section\t.rodata\n",
      ".LC0:\n",
      "\t.string\t\"You are awesome\"\n",
      "\t.text\n",
      "\t.globl\tmain\n",
      "\t.type\tmain, @function\n",
      "main:\n",
      ".LFB0:\n",
      "\t.cfi_startproc\n",
      "\tpushq\t%rbp\n",
      "\t.cfi_def_cfa_offset 16\n",
      "\t.cfi_offset 6, -16\n",
      "\tmovq\t%rsp, %rbp\n",
      "\t.cfi_def_cfa_register 6\n",
      "\tleaq\t.LC0(%rip), %rdi\n",
      "\tmovl\t$0, %eax\n",
      "\tcall\tprintf@PLT\n",
      "\tmovl\t$0, %eax\n",
      "\tpopq\t%rbp\n",
      "\t.cfi_def_cfa 7, 8\n",
      "\tret\n",
      "\t.cfi_endproc\n",
      ".LFE0:\n",
      "\t.size\tmain, .-main\n",
      "\t.ident\t\"GCC: (Debian 6.3.0-18+deb9u1) 6.3.0 20170516\"\n",
      "\t.section\t.note.GNU-stack,\"\",@progbits\n",
      "\n"
     ]
    }
   ],
   "source": [
    "print(assembly)"
   ]
  },
  {
   "cell_type": "code",
   "execution_count": null,
   "metadata": {},
   "outputs": [],
   "source": []
  }
 ],
 "metadata": {
  "kernelspec": {
   "display_name": "Python 3",
   "language": "python",
   "name": "python3"
  },
  "language_info": {
   "codemirror_mode": {
    "name": "ipython",
    "version": 3
   },
   "file_extension": ".py",
   "mimetype": "text/x-python",
   "name": "python",
   "nbconvert_exporter": "python",
   "pygments_lexer": "ipython3",
   "version": "3.7.6"
  }
 },
 "nbformat": 4,
 "nbformat_minor": 4
}
