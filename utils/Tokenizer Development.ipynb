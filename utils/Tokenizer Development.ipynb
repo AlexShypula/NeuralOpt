{
 "cells": [
  {
   "cell_type": "code",
   "execution_count": 34,
   "metadata": {},
   "outputs": [],
   "source": [
    "import re\n",
    "import pandas as pd\n",
    "from nltk import regexp_tokenize"
   ]
  },
  {
   "cell_type": "code",
   "execution_count": 11,
   "metadata": {},
   "outputs": [],
   "source": [
    "assembly = '''\n",
    "\t.section\t__TEXT,__text,regular,pure_instructions\n",
    "\t.build_version macos, 10, 14\tsdk_version 10, 14\n",
    "\t.globl\t_super_duper_print      ## -- Begin function super_duper_print\n",
    "\t.p2align\t4, 0x90\n",
    "_super_duper_print:                     ## @super_duper_print\n",
    "\t.cfi_startproc\n",
    "## %bb.0:\n",
    "\tpushq\t%rbp\n",
    "\t.cfi_def_cfa_offset 16\n",
    "\t.cfi_offset %rbp, -16\n",
    "\tmovq\t%rsp, %rbp\n",
    "\t.cfi_def_cfa_register %rbp\n",
    "\tsubq\t$16, %rsp\n",
    "\tmovq\t%rdi, -8(%rbp)\n",
    "\tmovq\t-8(%rbp), %rsi\n",
    "\tleaq\tL_.str(%rip), %rdi\n",
    "\tmovb\t$0, %al\n",
    "\tcallq\t_printf\n",
    "\tmovl\t%eax, -12(%rbp)         ## 4-byte Spill\n",
    "\taddq\t$16, %rsp\n",
    "\tpopq\t%rbp\n",
    "\tretq\n",
    "\t.cfi_endproc\n",
    "                                        ## -- End function\n",
    "\t.globl\t_main                   ## -- Begin function main\n",
    "\t.p2align\t4, 0x90\n",
    "_main:                                  ## @main\n",
    "\t.cfi_startproc\n",
    "## %bb.0:\n",
    "\tpushq\t%rbp\n",
    "\t.cfi_def_cfa_offset 16\n",
    "\t.cfi_offset %rbp, -16\n",
    "\tmovq\t%rsp, %rbp\n",
    "\t.cfi_def_cfa_register %rbp\n",
    "\tsubq\t$16, %rsp\n",
    "\tmovl\t$0, -4(%rbp)\n",
    "\tleaq\tL_.str.1(%rip), %rdi\n",
    "\tcallq\t_super_duper_print\n",
    "\tmovl\t$1, %eax\n",
    "\taddq\t$16, %rsp\n",
    "\tpopq\t%rbp\n",
    "\tretq\n",
    "\t.cfi_endproc\n",
    "                                        ## -- End function\n",
    "\t.section\t__TEXT,__cstring,cstring_literals\n",
    "L_.str:                                 ## @.str\n",
    "\t.asciz\t\"%s\\n\"\n",
    "\n",
    "L_.str.1:                               ## @.str.1\n",
    "\t.asciz\t\"this is the coolest c program ever written\\n\"\n",
    "\n",
    "\n",
    ".subsections_via_symbols\n",
    "\n",
    "'''"
   ]
  },
  {
   "cell_type": "code",
   "execution_count": 14,
   "metadata": {},
   "outputs": [
    {
     "data": {
      "text/plain": [
       "'\\n\\t.section\\t__TEXT,__text,regul'"
      ]
     },
     "execution_count": 14,
     "metadata": {},
     "output_type": "execute_result"
    }
   ],
   "source": [
    "assembly[:30]"
   ]
  },
  {
   "cell_type": "code",
   "execution_count": 16,
   "metadata": {},
   "outputs": [],
   "source": [
    "instruction_set = pd.read_csv(\"x86_instruction_set.csv\")"
   ]
  },
  {
   "cell_type": "code",
   "execution_count": 25,
   "metadata": {},
   "outputs": [
    {
     "data": {
      "text/plain": [
       "Index(['Instruction', 'Opcode', 'Valid 64-bit', 'Valid 32-bit', 'Valid 16-bit',\n",
       "       'Feature Flags', 'Operand 1', 'Operand 2', 'Operand 3', 'Operand 4',\n",
       "       'Tuple Type', 'Description'],\n",
       "      dtype='object')"
      ]
     },
     "execution_count": 25,
     "metadata": {},
     "output_type": "execute_result"
    }
   ],
   "source": [
    "instruction_set.columns"
   ]
  },
  {
   "cell_type": "code",
   "execution_count": 32,
   "metadata": {},
   "outputs": [],
   "source": [
    "cleaned_instructions = [i.split()[0] for i in instruction_set[\"Instruction\"]]\n",
    "\n"
   ]
  },
  {
   "cell_type": "code",
   "execution_count": 33,
   "metadata": {},
   "outputs": [
    {
     "name": "stdout",
     "output_type": "stream",
     "text": [
      "1309\n",
      "['PXOR', 'FCOMIP', 'CMPXCHG', 'OUTSW', 'FSUBR', 'VPMULHW', 'XBEGIN', 'VPROLQ', 'VGATHERPF0DPD', 'VPSIGNB', 'PMULLD', 'ROUNDSD', 'VGETMANTPS', 'VPHSUBD', 'VPMULLD', 'PMAXUW', 'VPADDQ', 'VZEROALL', 'VPSUBUSW', 'MINPS', 'PSUBUSB', 'VPCMPEQB', 'STOSW', 'VREDUCESS', 'VFIXUPIMMSS', 'SHR', 'MOVBE', 'PAND', 'PABSW', 'CMPSD']\n"
     ]
    }
   ],
   "source": [
    "print(len(set(cleaned_instructions)))\n",
    "print(list(set(cleaned_instructions))[:30])"
   ]
  },
  {
   "cell_type": "code",
   "execution_count": 158,
   "metadata": {},
   "outputs": [
    {
     "data": {
      "text/plain": [
       "['pxor',\n",
       " 'fcomip',\n",
       " 'cmpxchg',\n",
       " 'outsw',\n",
       " 'fsubr',\n",
       " 'vpmulhw',\n",
       " 'xbegin',\n",
       " 'vprolq',\n",
       " 'vgatherpf0dpd',\n",
       " 'vpsignb',\n",
       " 'pmulld',\n",
       " 'roundsd',\n",
       " 'vgetmantps',\n",
       " 'vphsubd',\n",
       " 'vpmulld']"
      ]
     },
     "execution_count": 158,
     "metadata": {},
     "output_type": "execute_result"
    }
   ],
   "source": [
    "cleaned_instructions_lower = [instruction.lower() for instruction in set(cleaned_instructions)]\n",
    "cleaned_instructions_lower[:15]"
   ]
  },
  {
   "cell_type": "code",
   "execution_count": 447,
   "metadata": {},
   "outputs": [],
   "source": [
    "s = \".direective here that is not important \\t\\t\\n .second direcitve here\\t\\t\\n movq %rax, %rsp\\t\\n mov %rsp, %rax\\t\\n .third directive here\\t\\t\\n\""
   ]
  },
  {
   "cell_type": "code",
   "execution_count": 465,
   "metadata": {},
   "outputs": [],
   "source": [
    "s = \".direective_here_that_is_not_important_\\t\\t\\n .second_direcitve_here\\t\\t\\n movq -8(%rax), %rsp\\t\\n mov -16(%rsp), %rax\\t\\n .third directive here\\t\\t\\n movq %rsp, %rax\"\n",
    "\n",
    "\n"
   ]
  },
  {
   "cell_type": "code",
   "execution_count": 466,
   "metadata": {},
   "outputs": [
    {
     "data": {
      "text/plain": [
       "['.direective_here_that_is_not_important_\\t\\t\\n .second_direcitve_here\\t\\t\\n movq -8(%rax), %rsp\\t\\n mov -16(%rsp), %rax\\t\\n .third directive here\\t\\t\\n movq ',\n",
       " ' %rax']"
      ]
     },
     "execution_count": 466,
     "metadata": {},
     "output_type": "execute_result"
    }
   ],
   "source": [
    "re.split(\"\\%\\w+,\", s)"
   ]
  },
  {
   "cell_type": "code",
   "execution_count": 467,
   "metadata": {},
   "outputs": [
    {
     "data": {
      "text/plain": [
       "'(?<=(?=\\\\))\\\\w{2,4}'"
      ]
     },
     "execution_count": 467,
     "metadata": {},
     "output_type": "execute_result"
    }
   ],
   "source": [
    "\"(?<=(\\(|\\())|\"\n",
    "\"(?<=(?=%)\\()\"\n",
    "\"(?<=(?=\\))\\w{2,4}\""
   ]
  },
  {
   "cell_type": "code",
   "execution_count": 468,
   "metadata": {},
   "outputs": [
    {
     "data": {
      "text/plain": [
       "['.direective_here_that_is_not_important_\\t\\t\\n .second_direcitve_here\\t\\t\\n movq -8(',\n",
       " '%rax), %rsp\\t\\n mov -16(',\n",
       " '%rsp), %rax\\t\\n .third directive here\\t\\t\\n movq %rsp, %rax']"
      ]
     },
     "execution_count": 468,
     "metadata": {},
     "output_type": "execute_result"
    }
   ],
   "source": [
    "# split on a parentheses before %\n",
    "regex.split(\"(?<=\\()(?=\\%)\", s)"
   ]
  },
  {
   "cell_type": "code",
   "execution_count": 475,
   "metadata": {},
   "outputs": [
    {
     "data": {
      "text/plain": [
       "['.direective_here_that_is_not_important_\\t\\t\\n .second_direcitve_here\\t\\t\\n movq -8(%rax',\n",
       " '), %rsp\\t\\n mov -16(%rsp',\n",
       " '), %rax\\t\\n .third directive here\\t\\t\\n movq %rsp, %rax']"
      ]
     },
     "execution_count": 475,
     "metadata": {},
     "output_type": "execute_result"
    }
   ],
   "source": [
    "# split on 2-5 word characters before a parentheses\n",
    "regex.split(\"(?<=\\%\\w{2,5})(?=\\))\", s)"
   ]
  },
  {
   "cell_type": "code",
   "execution_count": 470,
   "metadata": {},
   "outputs": [
    {
     "data": {
      "text/plain": [
       "['.direective_here_that_is_not_important_\\t\\t\\n .second_direcitve_here\\t\\t\\n movq -8(%rax), %rsp',\n",
       " '\\t\\n mov -16(%rsp), %rax',\n",
       " '\\t\\n .third directive here\\t\\t\\n movq %rsp, %rax']"
      ]
     },
     "execution_count": 470,
     "metadata": {},
     "output_type": "execute_result"
    }
   ],
   "source": [
    "# split on % then 2-5 word characters before a whitespace\n",
    "regex.split(\"(?<=\\%\\w{2,5})(?=\\s)\", s)"
   ]
  },
  {
   "cell_type": "code",
   "execution_count": 472,
   "metadata": {},
   "outputs": [
    {
     "data": {
      "text/plain": [
       "['.direective_here_that_is_not_important_\\t\\t\\n .second_direcitve_here\\t\\t\\n movq -8(%rax), ',\n",
       " '%rsp\\t\\n mov -16(%rsp), ',\n",
       " '%rax\\t\\n .third directive here\\t\\t\\n movq ',\n",
       " '%rsp, ',\n",
       " '%rax']"
      ]
     },
     "execution_count": 472,
     "metadata": {},
     "output_type": "execute_result"
    }
   ],
   "source": [
    "# split on whitespace before %\\w{2,5}\n",
    "regex.split(\"(?<=\\s)(?=\\%\\w{2,5})\", s)"
   ]
  },
  {
   "cell_type": "code",
   "execution_count": 476,
   "metadata": {},
   "outputs": [
    {
     "data": {
      "text/plain": [
       "['.direective_here_that_is_not_important_\\t\\t\\n .second_direcitve_here\\t\\t\\n movq -8(%rax), %rsp\\t\\n mov -16(%rsp), %rax\\t\\n .third directive here\\t\\t\\n movq %rsp',\n",
       " ', %rax']"
      ]
     },
     "execution_count": 476,
     "metadata": {},
     "output_type": "execute_result"
    }
   ],
   "source": [
    "# split on %\\w{2,5} before a comma \n",
    "regex.split(\"(?<=\\%\\w{2,5})(?=,)\", s)"
   ]
  },
  {
   "cell_type": "code",
   "execution_count": 478,
   "metadata": {},
   "outputs": [
    {
     "data": {
      "text/plain": [
       "['.direective_here_that_is_not_important_\\t\\t\\n .second_direcitve_here\\t\\t\\n movq -8(',\n",
       " '%rax',\n",
       " '), ',\n",
       " '%rsp',\n",
       " '\\t\\n mov -16(',\n",
       " '%rsp',\n",
       " '), ',\n",
       " '%rax',\n",
       " '\\t\\n .third directive here\\t\\t\\n movq ',\n",
       " '%rsp',\n",
       " ', ',\n",
       " '%rax']"
      ]
     },
     "execution_count": 478,
     "metadata": {},
     "output_type": "execute_result"
    }
   ],
   "source": [
    "# all the ones above combined\n",
    "regex.split('(?<=\\%\\w{2,5})(?=,)|(?<=\\s)(?=\\%\\w{2,5})|(?<=\\%\\w{2,5})(?=\\s)|(?<=\\%\\w{2,5})(?=\\))|(?<=\\()(?=\\%)', s)"
   ]
  },
  {
   "cell_type": "code",
   "execution_count": 460,
   "metadata": {},
   "outputs": [
    {
     "data": {
      "text/plain": [
       "['.direective_here_that_is_not_important_\\t\\t\\n .second_direcitve_here\\t\\t\\n movq -8(',\n",
       " '%rax',\n",
       " '), %rsp\\t\\n mov -16(',\n",
       " '%rsp',\n",
       " '), %rax\\t\\n .third directive here\\t\\t\\n']"
      ]
     },
     "execution_count": 460,
     "metadata": {},
     "output_type": "execute_result"
    }
   ],
   "source": [
    "regex.split(\"(?<=\\()(?=\\%)|(?<=\\w{2,4})(?=\\))\", s)"
   ]
  },
  {
   "cell_type": "code",
   "execution_count": null,
   "metadata": {},
   "outputs": [],
   "source": [
    "regex.split(\"(?<=\\()(?=\\%)|(?<=\\w{2,4})(?=\\))\", s)"
   ]
  },
  {
   "cell_type": "code",
   "execution_count": 435,
   "metadata": {},
   "outputs": [
    {
     "data": {
      "text/plain": [
       "['.direective_here_that_is_not_important_\\t\\t\\n .second_direcitve_here\\t\\t\\n movq -8',\n",
       " '(%rax), %rsp\\t\\n mov -16',\n",
       " '($rsp), %rax\\t\\n .third directive here\\t\\t\\n']"
      ]
     },
     "execution_count": 435,
     "metadata": {},
     "output_type": "execute_result"
    }
   ],
   "source": [
    "regex.split(\"(?=\\()\",s)"
   ]
  },
  {
   "cell_type": "code",
   "execution_count": 405,
   "metadata": {},
   "outputs": [
    {
     "data": {
      "text/plain": [
       "['\\n\\t.section\\t__TEXT,__text,regular,pure_instructions\\n\\t.build_version macos, 10, 14\\tsdk_version 10, 14\\n\\t.globl\\t_super_duper_print      ## -- Begin function super_duper_print\\n\\t.p2align\\t4, 0x90\\n_super_duper_print:                     ## @super_duper_print\\n\\t.cfi_startproc\\n## %bb.0:\\n\\tpushq\\t',\n",
       " None,\n",
       " None,\n",
       " '%rbp\\n',\n",
       " '\\t.cfi_def_cfa_offset 16\\n\\t.cfi_offset ',\n",
       " None,\n",
       " '%rbp,',\n",
       " None,\n",
       " ' -16\\n\\tmovq\\t',\n",
       " None,\n",
       " '%rsp,',\n",
       " None,\n",
       " ' ',\n",
       " None,\n",
       " None,\n",
       " '%rbp\\n',\n",
       " '\\t.cfi_def_cfa_register ',\n",
       " None,\n",
       " None,\n",
       " '%rbp\\n',\n",
       " '\\tsubq\\t$16, ',\n",
       " None,\n",
       " None,\n",
       " '%rsp\\n',\n",
       " '\\tmovq\\t',\n",
       " None,\n",
       " '%rdi,',\n",
       " None,\n",
       " ' -8(%rbp',\n",
       " '',\n",
       " None,\n",
       " None,\n",
       " ')\\n\\tmovq\\t-8(%rbp',\n",
       " '',\n",
       " None,\n",
       " None,\n",
       " '), ',\n",
       " None,\n",
       " None,\n",
       " '%rsi\\n',\n",
       " '\\tleaq\\tL_.str(%rip',\n",
       " '',\n",
       " None,\n",
       " None,\n",
       " '), ',\n",
       " None,\n",
       " None,\n",
       " '%rdi\\n',\n",
       " '\\tmovb\\t$0, ',\n",
       " None,\n",
       " None,\n",
       " '%al\\n',\n",
       " '\\tcallq\\t_printf\\n\\tmovl\\t',\n",
       " None,\n",
       " '%eax,',\n",
       " None,\n",
       " ' -12(%rbp',\n",
       " '',\n",
       " None,\n",
       " None,\n",
       " ')         ## 4-byte Spill\\n\\taddq\\t$16, ',\n",
       " None,\n",
       " None,\n",
       " '%rsp\\n',\n",
       " '\\tpopq\\t',\n",
       " None,\n",
       " None,\n",
       " '%rbp\\n',\n",
       " '\\tretq\\n\\t.cfi_endproc\\n                                        ## -- End function\\n\\t.globl\\t_main                   ## -- Begin function main\\n\\t.p2align\\t4, 0x90\\n_main:                                  ## @main\\n\\t.cfi_startproc\\n## %bb.0:\\n\\tpushq\\t',\n",
       " None,\n",
       " None,\n",
       " '%rbp\\n',\n",
       " '\\t.cfi_def_cfa_offset 16\\n\\t.cfi_offset ',\n",
       " None,\n",
       " '%rbp,',\n",
       " None,\n",
       " ' -16\\n\\tmovq\\t',\n",
       " None,\n",
       " '%rsp,',\n",
       " None,\n",
       " ' ',\n",
       " None,\n",
       " None,\n",
       " '%rbp\\n',\n",
       " '\\t.cfi_def_cfa_register ',\n",
       " None,\n",
       " None,\n",
       " '%rbp\\n',\n",
       " '\\tsubq\\t$16, ',\n",
       " None,\n",
       " None,\n",
       " '%rsp\\n',\n",
       " '\\tmovl\\t$0, -4(%rbp',\n",
       " '',\n",
       " None,\n",
       " None,\n",
       " ')\\n\\tleaq\\tL_.str.1(%rip',\n",
       " '',\n",
       " None,\n",
       " None,\n",
       " '), ',\n",
       " None,\n",
       " None,\n",
       " '%rdi\\n',\n",
       " '\\tcallq\\t_super_duper_print\\n\\tmovl\\t$1, ',\n",
       " None,\n",
       " None,\n",
       " '%eax\\n',\n",
       " '\\taddq\\t$16, ',\n",
       " None,\n",
       " None,\n",
       " '%rsp\\n',\n",
       " '\\tpopq\\t',\n",
       " None,\n",
       " None,\n",
       " '%rbp\\n',\n",
       " '\\tretq\\n\\t.cfi_endproc\\n                                        ## -- End function\\n\\t.section\\t__TEXT,__cstring,cstring_literals\\nL_.str:                                 ## @.str\\n\\t.asciz\\t\"',\n",
       " None,\n",
       " None,\n",
       " '%s\\n',\n",
       " '\"\\n\\nL_.str.1:                               ## @.str.1\\n\\t.asciz\\t\"this is the coolest c program ever written\\n\"\\n\\n\\n.subsections_via_symbols\\n\\n']"
      ]
     },
     "execution_count": 405,
     "metadata": {},
     "output_type": "execute_result"
    }
   ],
   "source": [
    "regex.split(\"((?<=\\(\\%\\w+)(?=\\)))|(\\%\\w+,)|(\\%\\w+\\s)\",assembly)"
   ]
  },
  {
   "cell_type": "code",
   "execution_count": null,
   "metadata": {},
   "outputs": [],
   "source": []
  },
  {
   "cell_type": "code",
   "execution_count": 404,
   "metadata": {},
   "outputs": [
    {
     "data": {
      "text/plain": [
       "['.direective_here_that_is_not_important_',\n",
       " '.second_direcitve_here',\n",
       " 'movq',\n",
       " '-8(',\n",
       " '%rax',\n",
       " '),',\n",
       " '%rsp\\t',\n",
       " 'mov',\n",
       " '-16(',\n",
       " '$rsp',\n",
       " '),',\n",
       " '%rax\\t',\n",
       " '.third',\n",
       " 'directive',\n",
       " 'here']"
      ]
     },
     "execution_count": 404,
     "metadata": {},
     "output_type": "execute_result"
    }
   ],
   "source": [
    "[i for i in regex.split(\"(?<=\\()|(?=\\))|(?<=\\%\\w+,)|(\\%\\w+\\s)|\\s\",s,) if i is not None and i is not '']"
   ]
  },
  {
   "cell_type": "code",
   "execution_count": 402,
   "metadata": {},
   "outputs": [
    {
     "data": {
      "text/plain": [
       "['.direective_here_that_is_not_important_\\t\\t\\n .second_direcitve_here\\t\\t\\n movq -8(',\n",
       " '%rax',\n",
       " '), ',\n",
       " '%rsp\\t\\n mov -16(',\n",
       " '$rsp',\n",
       " '), ',\n",
       " '%rax\\t\\n .third directive here\\t\\t\\n']"
      ]
     },
     "execution_count": 402,
     "metadata": {},
     "output_type": "execute_result"
    }
   ],
   "source": [
    "regex.split(\"(?<=\\()|(?=\\))|(?<=\\%\\w+,)|(?=\\%\\w+\\s)\",s,)"
   ]
  },
  {
   "cell_type": "code",
   "execution_count": 51,
   "metadata": {},
   "outputs": [
    {
     "data": {
      "text/plain": [
       "['%rax', ',', ' ', '%rsp', '\\t']"
      ]
     },
     "execution_count": 51,
     "metadata": {},
     "output_type": "execute_result"
    }
   ],
   "source": [
    "regexp_tokenize(s, \"(\\%\\w+)|(,)|(\\s)\", gaps = True)"
   ]
  },
  {
   "cell_type": "code",
   "execution_count": 75,
   "metadata": {},
   "outputs": [
    {
     "data": {
      "text/plain": [
       "'  movq %rax, %rsp\\t\\n mov $rsp, %rax\\t\\n '"
      ]
     },
     "execution_count": 75,
     "metadata": {},
     "output_type": "execute_result"
    }
   ],
   "source": [
    "re.sub(\"\\..*\\n\", \"\", s)"
   ]
  },
  {
   "cell_type": "code",
   "execution_count": 159,
   "metadata": {},
   "outputs": [],
   "source": [
    "clean_regexp_string = r\"(\\..*\\n)|(\\#.*)\"\n",
    "register_regex = r\"(\\%\\w+)|(,)|(\\s)\"\n",
    "instructions_regex = \"|\".join(set(cleaned_instructions_lower))\n"
   ]
  },
  {
   "cell_type": "code",
   "execution_count": 160,
   "metadata": {},
   "outputs": [
    {
     "data": {
      "text/plain": [
       "'(\\\\%\\\\w+)|(,)|(\\\\s)|sete|vphsubsw|vpermilps|clflush|blendpd|pushfd|vsqrtpd|vmovapd|vfmsub231ss|vcvtpd2ps|movlhps|jpo|vmovntpd|vpunpckldq|fucompp|vaesenclast|dpps|unpcklpd|popfd|vpmovsxwd|pmuludq|pcmpistrm|vpcmpistri|fild|vpinsrb|punpckhbw|vcvtudq2ps|vbroadcastss|vfmadd231ps|pand|xorpd|vpsllvw|sha256rnds2|blendvpd|vpmullq|vcvtsd2usi|vfixupimmpd|jns|vplzcntd|fsubr|vcvttps2qq|vfnmadd132ss|vsubsd|frndint|vfmaddsub231pd|fldl2t|or|fld1|vpminuw|pminsd|test|kaddw|vbroadcasti64x4|knotb|vpermi2q|xrstor64|int|vfmsubadd231ps|vfmsubadd213pd|vextracti32x4|cmps|lar|movdqa|cwd|vpminub|jrcxz|bndcu|vfnmsub231pd|vpscatterdq|vprold|cmppd|kxnorq|vpextrb|into|kxorq|vmaxps|subss|rcr|psubd|pmaxuw|setng|pabsw|vmovntdqa|fcom|vpcmpistrm|fdivrp|vpsrlw|ftst|vroundsd|cmovle|vaddsd|vcmpss|vbroadcasti32x2|subps|paddusw|vmovntps|aesimc|movsd|cvtps2dq|maxss|extractps|jcxz|movntdqa|vprolvd|bzhi|cld|movzx|vtestps|sal|jpe|cvtdq2pd|lzcnt|andnps|cvtps2pd|smsw|vfpclasssd|lodsw|vpcompressd|fbld|cvtpd2dq|vblendpd|andnpd|vmovdqu8|vandps|cmovge|cli|vscatterpf1qpd|vpmovusdw|pmovzxwq|vfmadd213sd|vpmovdw|movddup|kortestd|aesenc|kortestb|paddw|vphsubw|sqrtpd|vpsubd|divps|vcvtdq2pd|vpblendmb|vcvtph2ps|vpcmpud|vpmovdb|cmove|rdtscp|vpminsb|kshiftrd|rdpkru|fcmovnu|vpextrd|fclex|vpmaxud|vfmadd231sd|not|vextracti128|fxtract|blsr|vpcmpd|fsub|vmaskmovps|syscall|vshufpd|pinsrq|bts|vfnmadd213ps|vpblendvb|fwait|vcvtusi2ss|vrsqrt14pd|vpmaxsb|sldt|shufpd|adcx|valignq|bsf|pcmpgtw|vmovdqa|aesenclast|vmovdqa64|vpunpcklwd|pcmpeqq|sahf|je|kxorw|vpmovsdw|roundpd|vrangeps|vscatterdps|paddsb|stc|vrsqrtss|xorps|vshuff64x2|vcvtss2sd|vxorpd|xsaveopt|fldcw|korb|and|vpmaddwd|vcvtps2uqq|vshufi32x4|das|psubq|movlpd|packsswb|pextrw|bndldx|blsmsk|vfnmadd231ss|vdivss|vrangepd|vfnmsub132ss|kaddq|vfmsub213ss|vpmovqw|ficom|vfmaddsub231ps|cmovae|sarx|cvtsd2si|vfpclassps|vminsd|vprord|rdtsc|vcvtqq2pd|xgetbv|vrcp28ps|cmpsq|fist|ltr|vmovdqu32|vptestnmw|psrldq|vpexpandd|movhpd|popcnt|dec|cwde|minsd|psraw|cvtpi2pd|vmovlps|vgetexppd|vcvtpd2dq|vmovaps|pminub|vpabsw|vpmovzxbd|vrangess|outsb|setge|vcvtps2ph|xsave|movd|ficomp|jl|pmullw|haddps|vdivpd|fmul|scasw|fsincos|kandq|vpmuludq|andn|pushad|psllw|wrgsbase|vpsrldq|vminss|vpminsw|kandnd|vpermi2pd|vpmovd2m|hlt|vcvttpd2dq|maxsd|vpmovsxbd|pcmpgtb|comisd|xsavec|vrndscalesd|movnti|fbstp|sbb|vpxorq|vpsravw|vpgatherdq|cpuid|ud0|vfmaddsub213pd|vpconflictd|vfnmsub213sd|xbegin|psrlq|fucom|vpsubsw|movntq|vpmaskmovd|ja|vpunpckhdq|vcvttps2dq|fcmovnb|vmovlhps|unpckhps|cbw|vminps|fidiv|subsd|movshdup|aas|vrsqrt28sd|popa|vpmovsdb|kshiftlq|kxord|mov|setnbe|shrx|setg|paddusb|xabort|vaddss|aesdeclast|vpmaxsw|ktestb|jna|vgatherpf1dps|divpd|vpmovswb|movbe|vfixupimmss|wbinvd|psubusw|vmovdqu|jnbe|vprorvq|stmxcsr|vperm2f128|kmovb|phminposuw|vmaxpd|vsubss|vpermilpd|fstp|btr|vfnmadd231ps|rcpss|scasb|vextractps|punpcklbw|kshiftrw|fiadd|vgatherdpd|vpcompressq|jng|setnb|unpckhpd|vblendvps|vpcmpgtd|cmpss|kmovd|fchs|frstor|jge|pshufw|vscatterpf0qps|ldmxcsr|cmovnge|shufps|vdpps|vpaddusw|sha1nexte|vpavgb|vfmadd213ss|vpmovm2d|xrstors64|xsave64|punpckhwd|cmovna|vunpckhpd|lodsb|movntpd|vextractf128|vpcmpq|prefetcht1|vscatterpf0qpd|vpmovm2b|mwait|vcvtsi2sd|insb|vrsqrt14ps|vfmsubadd132pd|vpmovzxbq|vpcmpb|kxnord|shl|vbroadcastf32x2|cvtss2sd|kunpckwd|addsubps|cvtpi2ps|iretq|addps|cvtss2si|fyl2xp1|xrstors|vcvtqq2ps|vgatherpf0dpd|vdivsd|vfmsub132sd|knotw|vmovhps|vorps|pshuflw|vpslld|pmulld|vpmaskmovq|vfmadd213pd|palignr|fcmovu|fstcw|cvttps2pi|cmpxchg|sqrtss|vexpandps|vpmovm2w|vfmsubadd132ps|vcvttpd2udq|loope|pextrb|vpblendd|vpcmpuq|rdseed|vpxord|vpsubusw|vfmadd132pd|vpermt2w|lidt|shr|vplzcntq|vzeroupper|kandd|fucomi|vgatherpf0dps|cdqe|sha1msg1|vexpandpd|vfmaddsub132ps|vpsllvq|vpexpandq|vpabsb|vmovmskps|setc|xrstor|fisttp|vmaskmovpd|pcmpeqb|cvttss2si|fincstp|fnstenv|psllq|pmaxub|fld|vpunpcklbw|punpckldq|vpcmpuw|vpmulhuw|vaddpd|cmovng|vcompressps|movmskpd|pmuldq|vpaddusb|setb|cmovnbe|fsin|vmpsadbw|lsl|vpermt2d|vaesimc|vpminud|aam|valignd|vpmovqb|vlddqu|vaddps|pmovmskb|mulpd|vpmovsxdq|vptestmd|vbroadcastf128|pause|insw|vfnmadd132sd|psignd|vrcp14pd|vpmovuswb|js|xlatb|stosw|fptan|vscalefpd|vrndscaless|sqrtsd|sub|vhsubpd|vfmadd132ss|punpckhdq|sti|vscatterqpd|fxsave64|vfmaddsub213ps|minps|fucomp|vfmadd231ss|jnge|kxnorb|vtestpd|jo|psignb|vpsravq|pmovsxdq|adox|vsqrtss|vpshufb|vpunpckhwd|pmovsxbd|les|fninit|xsaveopt64|kandnq|call|pandn|aesdec|verr|vpsignw|hsubpd|fscale|vfnmsub231ps|setna|vprolq|vpermw|vmulps|movhlps|vpmaxuq|vcvttpd2qq|xor|subpd|kaddd|f2xm1|xadd|vpgatherqd|vpackssdw|kunpckbw|popfq|paddq|vpsubusb|cmovnb|cmpsb|vrsqrtps|fldln2|wrpkru|cmovne|vpminsd|vpermd|rdpid|vunpckhps|minpd|vpsubw|vpextrq|vpmulhw|vpermt2ps|vrcpps|vcvtps2pd|vfnmadd231pd|vcvtss2si|fst|fcmovne|packssdw|ktestd|prefetcht0|pblendvb|phaddw|vcvttpd2uqq|vpmaddubsw|vpbroadcastd|phsubd|vptestnmd|pmaxsb|pminuw|vpacksswb|vpmuldq|knotd|vcvtpd2udq|pmovsxwq|rcpps|jg|movlps|divss|pmovzxbd|fcos|vpsllw|maskmovq|vaesdeclast|movmskps|xend|fabs|vexp2ps|pmaxud|vpcmpw|mulsd|vhaddps|fstsw|punpcklwd|vroundpd|vpternlogd|xlat|leave|fcomip|setnc|cmovnp|korw|vpmovzxbw|andps|vcompresspd|aeskeygenassist|xacquire|lock|fcmovnbe|add|vgatherpf1qpd|vpsravd|vmovups|vpmovsxwq|maskmovdqu|vpcmpgtq|fadd|vaddsubpd|vsubps|vscatterqps|vpbroadcastq|vpbroadcastb|vrsqrt28ss|vprolvq|ucomiss|vgatherpf1dpd|ktestw|andpd|cvtps2pi|jp|cmovbe|vphaddd|setnl|movups|vroundss|wait|rsqrtss|vpsubsb|cmp|vfnmsub132sd|xtest|vmovdqa32|vpsrlq|vfmadd132ps|phaddd|vpsraw|pmovsxwd|sar|out|vpmullw|pmovzxwd|vpermq|vptestnmb|sha256msg1|psrlw|vucomisd|vpblendmq|pcmpgtq|xsetbv|vpaddb|movsldup|vpabsd|vpandq|vpmovsqd|pcmpestri|vpmovsqw|vstmxcsr|vpmovmskb|cmpxchg8b|roundps|fldz|vphaddw|ret|sfence|vreducepd|vaesenc|invlpg|fsubp|vrsqrt28pd|vpminsq|kandnw|vpscatterqd|lods|sidt|vmovshdup|pmulhrsw|vperm2i128|vblendmps|cmovpe|vfmsub231sd|vcvtsi2ss|vextractf64x4|setae|vmovhpd|lodsd|phaddsw|ptwrite|vpcmpeqw|vorpd|stosb|lddqu|sha256msg2|pdep|prefetchwt1|vcvtuqq2pd|setbe|stos|setl|fprem1|cmpsd|phsubw|in|cmovnle|popad|vpaddsb|fisub|vpmaxuw|fidivr|vgetexpsd|vcvtudq2pd|ins|vpblendmd|vcmpsd|vpaddsw|vgatherpf1qps|invd|bswap|vfmsub231ps|vmovd|prefetchnta|vcvtsd2ss|div|xchg|vpsubq|vzeroall|sysenter|vpblendw|vpcmpeqq|addsubpd|vfmadd213ps|vmovmskpd|fprem|pcmpestrm|vpmovusqw|vcvtpd2qq|kandb|orps|vpackusdw|lfence|orpd|vscatterpf1dps|fyl2x|vcvtss2usi|vrndscaleps|movsq|bndcl|fdivp|vunpcklpd|divsd|vhaddpd|rdrand|vfnmadd213ss|jnc|vfmadd132sd|vmovdqu64|vsubpd|vcvttsd2usi|maxps|vpmulhrsw|lodsq|fsqrt|jnp|vinserti128|kortestq|vbroadcastf64x2|cmovg|pcmpgtd|vcvttss2si|vaddsubps|vpinsrd|rdpmc|cmpxchg16b|bndcn|vmulpd|pinsrw|vpermt2q|vpsignb|psadbw|vpackuswb|vandnpd|pextrq|punpckhqdq|ucomisd|sysexit|vfmsub213sd|movs|pmaxsd|vpaddd|pminsb|addss|movq|vmovupd|vbroadcasti128|fnstcw|pxor|vscatterdpd|pmulhuw|fldenv|por|std|fpatan|vrsqrt28ps|vfnmsub213pd|vpmovb2m|psrad|bndstx|vpmovzxdq|neg|popf|vbroadcasti32x4|jnae|vpermi2w|vphsubd|vpsrlvw|vcvtpd2uqq|cqo|vfmsub231pd|packuswb|vmovdqu16|vptestnmq|psubw|blendvps|vpbroadcastw|kshiftrb|pblendw|scas|vextractf32x4|vpunpckhqdq|vfmsub132ps|cmovb|vaeskeygenassist|pinsrd|cvtsd2ss|kshiftld|ud2|vpshufd|vblendvpd|vpcmpeqd|paddd|rsqrtps|vrcp14sd|movupd|jmp|paddb|prefetchw|mul|verw|vaesdec|psrld|vpmovusqd|kshiftlw|vpsllq|fldl2e|vgatherpf0qpd|vpandd|vblendmpd|vpcmpestri|pclmulqdq|fnclex|vfnmadd231sd|jb|lds|vcvtuqq2ps|mulx|vscalefps|lfs|vpmovm2q|vpextrw|vcvtps2dq|vpandnq|vpcmpestrm|vrcp28sd|fsubrp|vroundps|vsqrtps|tzcnt|daa|vpxor|jnle|ktestq|vfmsub132pd|ud1|vpermi2d|vhsubps|clts|sha1msg2|clflushopt|pmovsxbw|fdecstp|kxorb|vpsrlvd|addsd|jnz|vporq|pushfq|haddpd|jecxz|lgdt|vandnps|vpscatterqq|jne|vcvttsd2si|clwb|fucomip|vbroadcastf32x4|pushf|movapd|vfpclasspd|vgatherqpd|jz|bextr|vreducess|vscatterpf0dps|vdppd|vpminuq|crc32|vrsqrt14ss|vfnmsub132ps|vpcmpgtw|vblendps|vcmpps|vfnmsub231sd|aad|packusdw|movhps|scasd|movntps|vpternlogq|cmovo|vcmppd|vcomisd|monitor|vgetexpss|fcmove|adc|inc|invpcid|seta|vshufi64x2|vfixupimmps|vfnmadd132ps|pop|vpgatherqq|fxrstor64|vbroadcasti32x8|setne|blendps|ror|vpmovwb|vfmaddsub132pd|fcmovbe|kaddb|fxam|vmovlpd|swapgs|vfpclassss|xsavec64|unpcklps|hsubps|cmovnz|cmpps|fdivr|vpord|fcmovb|psubb|kmovw|idiv|iretd|vpalignr|vpinsrw|vfixupimmsd|vfmsubadd213ps|psubsb|vpscatterdd|vcvtsd2si|vmulss|cvttps2dq|movdqu|vmaxss|fldlg2|blsi|fnstsw|ffree|fnsave|psignw|vpmovusqb|vshufps|vpmaxub|loop|vgetexpps|vptestmq|stac|vexp2pd|vpmovsqb|stosd|vxorps|fmulp|faddp|movntdq|vcvtps2udq|rdfsbase|wrfsbase|fcomp|outs|vpaddw|vpmulld|vscatterpf1dpd|fcompp|movss|pshufd|vpor|vmovsd|bsr|pmovsxbq|paddsw|pabsb|kandnb|jnl|pmovzxbw|kshiftlb|vucomiss|vmovq|sysret|shld|vmovhlps|vldmxcsr|cmovnl|mpsadbw|vunpcklps|fxch|cvttpd2dq|cvtsi2ss|vpmovsxbw|rdgsbase|pext|cvttpd2pi|kxnorw|vpsraq|vcomiss|vshuff32x4|loopne|pminud|comiss|vinsertf128|xsaves64|cmovl|cmovnc|cdq|vgetmantss|vrcp14ss|jae|vptestmb|setnae|vfnmsub231ss|pextrd|push|vfmsub213ps|vfnmsub213ss|lahf|vpbroadcastmw2d|vpsrld|pmovzxdq|mulss|fcomi|bt|movsx|vcvtusi2sd|vpbroadcastmb2q|nop|vfmsubadd231pd|vdbpsadbw|vmovss|vpermpd|jno|rsm|roundss|vptestmw|cvtdq2ps|vfmsub213pd|pmaddubsw|ptest|lmsw|vpsadbw|vmaxsd|insd|jc|vpmovw2m|cmovnae|cmovno|vpclmulqdq|vpmovusdb|pmovzxbq|cmova|vpavgw|vmaskmovdqu|vmovntdq|knotq|vreducesd|movdq2q|sha1rnds4|shrd|kandw|vpunpcklqdq|cvtpd2pi|vgetmantpd|vfnmsub132pd|vdivps|pcmpeqw|pcmpeqd|pinsrb|vptest|vphaddsw|vpcmpgtb|vmovsldup|vpermi2ps|vpmovsxbq|vpslldq|vpshuflw|vpsrad|enter|vgatherdps|movsb|rorx|vrcpss|vpinsrq|pslldq|jbe|vrndscalepd|vbroadcasti64x2|vphminposuw|vrcp28pd|vminpd|vscalefsd|vfnmadd132pd|imul|vpunpckhbw|fisubr|vinsertps|cvttsd2si|vgetmantps|korq|cmc|vreduceps|vfnmadd213sd|addpd|vpmovq2m|vscalefss|kunpckdq|pcmpistri|fxsave|vscatterpf0dpd|vpaddq|vpmovzxwq|vrsqrt14sd|phsubsw|fstenv|lgs|setle|btc|vmulsd|vcvtps2qq|vpandnd|arpl|fldpi|fdiv|mulps|aaa|cvtsi2sd|vgetmantsd|insertps|kortestw|pslld|pusha|lss|pmaddwd|lea|maxpd|xsaves|vpcmpeqb|vpsrlvq|outsw|vrangesd|movsw|scasq|vgatherqps|pabsd|movsxd|vextracti64x4|pminsw|vpsignd|vpand|vpsllvd|pshufb|shlx|pmaxsw|pavgw|movq2dq|vpcmpub|vpsubb|fistp|kord|clc|vprorq|iret|vsqrtsd|stosq|punpcklqdq|bndmov|jle|vpandn|cmovns|jnb|cmpsw|setnge|vfmadd231pd|vpblendmw|psubusb|vpgatherdd|xrelease|vpermt2pd|fimul|rdmsr|vscatterpf1qps|pavgb|vpmovqd|cvtpd2ps|kshiftrq|pmulhw|movaps|finit|vrcp14ps|vprorvd|vcvttss2usi|cmovp|fxrstor|vcvttps2udq|vfnmsub213ps|vfnmadd213pd|kmovq|lldt|psubsw|prefetcht2|vbroadcastsd|setnle|sgdt|emms|cmovc|vpermps|vgatherpf0qps|vpmovzxwd|vcvtdq2ps|wrmsr|sqrtps|fsave|dppd|vpmaxsd|vfmsub132ss|fnop|roundsd|vmovddup|rol|str|mfence|minss|bound|pshufhw|outsd|vandpd|vrcp28ss|vpshufhw|bndmk|vcvttps2uqq|vpconflictq|clac|rcl'"
      ]
     },
     "execution_count": 160,
     "metadata": {},
     "output_type": "execute_result"
    }
   ],
   "source": [
    "register_regex + \"|\" + instructions_regex"
   ]
  },
  {
   "cell_type": "code",
   "execution_count": 175,
   "metadata": {},
   "outputs": [
    {
     "data": {
      "text/plain": [
       "['lar',\n",
       " 'in',\n",
       " 'str',\n",
       " 'int',\n",
       " 'in',\n",
       " 'int',\n",
       " 'int',\n",
       " 'int',\n",
       " 'push',\n",
       " 'mov',\n",
       " 'sub',\n",
       " 'mov',\n",
       " 'mov',\n",
       " 'lea',\n",
       " 'str',\n",
       " 'mov',\n",
       " 'call',\n",
       " 'int',\n",
       " 'mov',\n",
       " 'add',\n",
       " 'pop',\n",
       " 'ret',\n",
       " 'in',\n",
       " 'in',\n",
       " 'in',\n",
       " 'in',\n",
       " 'in',\n",
       " 'push',\n",
       " 'mov',\n",
       " 'sub',\n",
       " 'mov',\n",
       " 'lea',\n",
       " 'str',\n",
       " 'call',\n",
       " 'int',\n",
       " 'mov',\n",
       " 'add',\n",
       " 'pop',\n",
       " 'ret',\n",
       " 'str',\n",
       " 'in',\n",
       " 'str',\n",
       " 'in',\n",
       " 'str',\n",
       " 'str',\n",
       " 'str',\n",
       " 'str',\n",
       " 'les',\n",
       " 'sub']"
      ]
     },
     "execution_count": 175,
     "metadata": {},
     "output_type": "execute_result"
    }
   ],
   "source": [
    "regexp_tokenize(assembly, instructions_regex, gaps = False)"
   ]
  },
  {
   "cell_type": "code",
   "execution_count": 177,
   "metadata": {},
   "outputs": [],
   "source": [
    "def tokenize_assembly(assembly_string: str): \n",
    "    split_string = instructions_regex + \"|\"  + register_regex \n",
    "    \n",
    "    cleaned_assembly = re.sub(clean_regexp_string, \"\", assembly_string)\n",
    "    cleaned_assembly = re.sub(\"\\s+\", \" \", cleaned_assembly)\n",
    "    print(f\"cleaned assembly is {cleaned_assembly}\")\n",
    "    split = regexp_tokenize(cleaned_assembly, split_string)\n",
    "    result = [s for s in split if s not in [\" \", \"\"]]\n",
    "    return result\n",
    "    \n",
    "    \n",
    "    "
   ]
  },
  {
   "cell_type": "code",
   "execution_count": 199,
   "metadata": {},
   "outputs": [],
   "source": [
    "s = \"movq %rsp, %rbp\\n movzd -8(%rax), %rbp\\n _moving_is_the_function_name: \\n\""
   ]
  },
  {
   "cell_type": "code",
   "execution_count": 358,
   "metadata": {},
   "outputs": [],
   "source": [
    "p = r\"(?<=mov)\"\n",
    "p = r\"(?<=(?<!_)mov)\"\n",
    "p = '?<=(?<!_)mov'\n",
    "p = '?<!(?<=mov)_'\n",
    "p = \"(?<!_)(?<=mov)\"\n",
    "p = '(?<=(?<!_\\w+)mov)'\n",
    "\n",
    "#p = '(mov)(?<!_)'"
   ]
  },
  {
   "cell_type": "code",
   "execution_count": null,
   "metadata": {},
   "outputs": [],
   "source": []
  },
  {
   "cell_type": "code",
   "execution_count": 313,
   "metadata": {},
   "outputs": [
    {
     "data": {
      "text/plain": [
       "['mov',\n",
       " 'q %rsp, %rbp\\n mov',\n",
       " 'zd -8(%rax), %rbp\\n _moving_is_the_function_name: \\n']"
      ]
     },
     "execution_count": 313,
     "metadata": {},
     "output_type": "execute_result"
    }
   ],
   "source": [
    "regexp_tokenize(s, p, gaps = True)"
   ]
  },
  {
   "cell_type": "code",
   "execution_count": 315,
   "metadata": {},
   "outputs": [
    {
     "data": {
      "text/plain": [
       "['mov',\n",
       " 'q',\n",
       " ' %rsp, %rbp\\n mov',\n",
       " 'zd -8(%rax), %rbp\\n _movin',\n",
       " 'g_is_the_function_name: \\n']"
      ]
     },
     "execution_count": 315,
     "metadata": {},
     "output_type": "execute_result"
    }
   ],
   "source": [
    "regexp_tokenize(s, instructions_regex, gaps = True)"
   ]
  },
  {
   "cell_type": "code",
   "execution_count": 316,
   "metadata": {},
   "outputs": [
    {
     "data": {
      "text/plain": [
       "'(?<=(?<!_)sete)|(?<=(?<!_)vphsubsw)|(?<=(?<!_)vpermilps)|(?<=(?<!_)clflush)|(?<=(?<!_)blendpd)|(?<=(?<!_)pushfd)|(?<=(?<!_)vsqrtpd)|(?<=(?<!_)vmovapd)|(?<=(?<!_)vfmsub231ss)|(?<=(?<!_)vcvtpd2ps)|(?<=(?<!_)movlhps)|(?<=(?<!_)jpo)|(?<=(?<!_)vmovntpd)|(?<=(?<!_)vpunpckldq)|(?<=(?<!_)fucompp)|(?<=(?<!_)vaesenclast)|(?<=(?<!_)dpps)|(?<=(?<!_)unpcklpd)|(?<=(?<!_)popfd)|(?<=(?<!_)vpmovsxwd)|(?<=(?<!_)pmuludq)|(?<=(?<!_)pcmpistrm)|(?<=(?<!_)vpcmpistri)|(?<=(?<!_)fild)|(?<=(?<!_)vpinsrb)|(?<=(?<!_)punpckhbw)|(?<=(?<!_)vcvtudq2ps)|(?<=(?<!_)vbroadcastss)|(?<=(?<!_)vfmadd231ps)|(?<=(?<!_)pand)|(?<=(?<!_)xorpd)|(?<=(?<!_)vpsllvw)|(?<=(?<!_)sha256rnds2)|(?<=(?<!_)blendvpd)|(?<=(?<!_)vpmullq)|(?<=(?<!_)vcvtsd2usi)|(?<=(?<!_)vfixupimmpd)|(?<=(?<!_)jns)|(?<=(?<!_)vplzcntd)|(?<=(?<!_)fsubr)|(?<=(?<!_)vcvttps2qq)|(?<=(?<!_)vfnmadd132ss)|(?<=(?<!_)vsubsd)|(?<=(?<!_)frndint)|(?<=(?<!_)vfmaddsub231pd)|(?<=(?<!_)fldl2t)|(?<=(?<!_)or)|(?<=(?<!_)fld1)|(?<=(?<!_)vpminuw)|(?<=(?<!_)pminsd)|(?<=(?<!_)test)|(?<=(?<!_)kaddw)|(?<=(?<!_)vbroadcasti64x4)|(?<=(?<!_)knotb)|(?<=(?<!_)vpermi2q)|(?<=(?<!_)xrstor64)|(?<=(?<!_)int)|(?<=(?<!_)vfmsubadd231ps)|(?<=(?<!_)vfmsubadd213pd)|(?<=(?<!_)vextracti32x4)|(?<=(?<!_)cmps)|(?<=(?<!_)lar)|(?<=(?<!_)movdqa)|(?<=(?<!_)cwd)|(?<=(?<!_)vpminub)|(?<=(?<!_)jrcxz)|(?<=(?<!_)bndcu)|(?<=(?<!_)vfnmsub231pd)|(?<=(?<!_)vpscatterdq)|(?<=(?<!_)vprold)|(?<=(?<!_)cmppd)|(?<=(?<!_)kxnorq)|(?<=(?<!_)vpextrb)|(?<=(?<!_)into)|(?<=(?<!_)kxorq)|(?<=(?<!_)vmaxps)|(?<=(?<!_)subss)|(?<=(?<!_)rcr)|(?<=(?<!_)psubd)|(?<=(?<!_)pmaxuw)|(?<=(?<!_)setng)|(?<=(?<!_)pabsw)|(?<=(?<!_)vmovntdqa)|(?<=(?<!_)fcom)|(?<=(?<!_)vpcmpistrm)|(?<=(?<!_)fdivrp)|(?<=(?<!_)vpsrlw)|(?<=(?<!_)ftst)|(?<=(?<!_)vroundsd)|(?<=(?<!_)cmovle)|(?<=(?<!_)vaddsd)|(?<=(?<!_)vcmpss)|(?<=(?<!_)vbroadcasti32x2)|(?<=(?<!_)subps)|(?<=(?<!_)paddusw)|(?<=(?<!_)vmovntps)|(?<=(?<!_)aesimc)|(?<=(?<!_)movsd)|(?<=(?<!_)cvtps2dq)|(?<=(?<!_)maxss)|(?<=(?<!_)extractps)|(?<=(?<!_)jcxz)|(?<=(?<!_)movntdqa)|(?<=(?<!_)vprolvd)|(?<=(?<!_)bzhi)|(?<=(?<!_)cld)|(?<=(?<!_)movzx)|(?<=(?<!_)vtestps)|(?<=(?<!_)sal)|(?<=(?<!_)jpe)|(?<=(?<!_)cvtdq2pd)|(?<=(?<!_)lzcnt)|(?<=(?<!_)andnps)|(?<=(?<!_)cvtps2pd)|(?<=(?<!_)smsw)|(?<=(?<!_)vfpclasssd)|(?<=(?<!_)lodsw)|(?<=(?<!_)vpcompressd)|(?<=(?<!_)fbld)|(?<=(?<!_)cvtpd2dq)|(?<=(?<!_)vblendpd)|(?<=(?<!_)andnpd)|(?<=(?<!_)vmovdqu8)|(?<=(?<!_)vandps)|(?<=(?<!_)cmovge)|(?<=(?<!_)cli)|(?<=(?<!_)vscatterpf1qpd)|(?<=(?<!_)vpmovusdw)|(?<=(?<!_)pmovzxwq)|(?<=(?<!_)vfmadd213sd)|(?<=(?<!_)vpmovdw)|(?<=(?<!_)movddup)|(?<=(?<!_)kortestd)|(?<=(?<!_)aesenc)|(?<=(?<!_)kortestb)|(?<=(?<!_)paddw)|(?<=(?<!_)vphsubw)|(?<=(?<!_)sqrtpd)|(?<=(?<!_)vpsubd)|(?<=(?<!_)divps)|(?<=(?<!_)vcvtdq2pd)|(?<=(?<!_)vpblendmb)|(?<=(?<!_)vcvtph2ps)|(?<=(?<!_)vpcmpud)|(?<=(?<!_)vpmovdb)|(?<=(?<!_)cmove)|(?<=(?<!_)rdtscp)|(?<=(?<!_)vpminsb)|(?<=(?<!_)kshiftrd)|(?<=(?<!_)rdpkru)|(?<=(?<!_)fcmovnu)|(?<=(?<!_)vpextrd)|(?<=(?<!_)fclex)|(?<=(?<!_)vpmaxud)|(?<=(?<!_)vfmadd231sd)|(?<=(?<!_)not)|(?<=(?<!_)vextracti128)|(?<=(?<!_)fxtract)|(?<=(?<!_)blsr)|(?<=(?<!_)vpcmpd)|(?<=(?<!_)fsub)|(?<=(?<!_)vmaskmovps)|(?<=(?<!_)syscall)|(?<=(?<!_)vshufpd)|(?<=(?<!_)pinsrq)|(?<=(?<!_)bts)|(?<=(?<!_)vfnmadd213ps)|(?<=(?<!_)vpblendvb)|(?<=(?<!_)fwait)|(?<=(?<!_)vcvtusi2ss)|(?<=(?<!_)vrsqrt14pd)|(?<=(?<!_)vpmaxsb)|(?<=(?<!_)sldt)|(?<=(?<!_)shufpd)|(?<=(?<!_)adcx)|(?<=(?<!_)valignq)|(?<=(?<!_)bsf)|(?<=(?<!_)pcmpgtw)|(?<=(?<!_)vmovdqa)|(?<=(?<!_)aesenclast)|(?<=(?<!_)vmovdqa64)|(?<=(?<!_)vpunpcklwd)|(?<=(?<!_)pcmpeqq)|(?<=(?<!_)sahf)|(?<=(?<!_)je)|(?<=(?<!_)kxorw)|(?<=(?<!_)vpmovsdw)|(?<=(?<!_)roundpd)|(?<=(?<!_)vrangeps)|(?<=(?<!_)vscatterdps)|(?<=(?<!_)paddsb)|(?<=(?<!_)stc)|(?<=(?<!_)vrsqrtss)|(?<=(?<!_)xorps)|(?<=(?<!_)vshuff64x2)|(?<=(?<!_)vcvtss2sd)|(?<=(?<!_)vxorpd)|(?<=(?<!_)xsaveopt)|(?<=(?<!_)fldcw)|(?<=(?<!_)korb)|(?<=(?<!_)and)|(?<=(?<!_)vpmaddwd)|(?<=(?<!_)vcvtps2uqq)|(?<=(?<!_)vshufi32x4)|(?<=(?<!_)das)|(?<=(?<!_)psubq)|(?<=(?<!_)movlpd)|(?<=(?<!_)packsswb)|(?<=(?<!_)pextrw)|(?<=(?<!_)bndldx)|(?<=(?<!_)blsmsk)|(?<=(?<!_)vfnmadd231ss)|(?<=(?<!_)vdivss)|(?<=(?<!_)vrangepd)|(?<=(?<!_)vfnmsub132ss)|(?<=(?<!_)kaddq)|(?<=(?<!_)vfmsub213ss)|(?<=(?<!_)vpmovqw)|(?<=(?<!_)ficom)|(?<=(?<!_)vfmaddsub231ps)|(?<=(?<!_)cmovae)|(?<=(?<!_)sarx)|(?<=(?<!_)cvtsd2si)|(?<=(?<!_)vfpclassps)|(?<=(?<!_)vminsd)|(?<=(?<!_)vprord)|(?<=(?<!_)rdtsc)|(?<=(?<!_)vcvtqq2pd)|(?<=(?<!_)xgetbv)|(?<=(?<!_)vrcp28ps)|(?<=(?<!_)cmpsq)|(?<=(?<!_)fist)|(?<=(?<!_)ltr)|(?<=(?<!_)vmovdqu32)|(?<=(?<!_)vptestnmw)|(?<=(?<!_)psrldq)|(?<=(?<!_)vpexpandd)|(?<=(?<!_)movhpd)|(?<=(?<!_)popcnt)|(?<=(?<!_)dec)|(?<=(?<!_)cwde)|(?<=(?<!_)minsd)|(?<=(?<!_)psraw)|(?<=(?<!_)cvtpi2pd)|(?<=(?<!_)vmovlps)|(?<=(?<!_)vgetexppd)|(?<=(?<!_)vcvtpd2dq)|(?<=(?<!_)vmovaps)|(?<=(?<!_)pminub)|(?<=(?<!_)vpabsw)|(?<=(?<!_)vpmovzxbd)|(?<=(?<!_)vrangess)|(?<=(?<!_)outsb)|(?<=(?<!_)setge)|(?<=(?<!_)vcvtps2ph)|(?<=(?<!_)xsave)|(?<=(?<!_)movd)|(?<=(?<!_)ficomp)|(?<=(?<!_)jl)|(?<=(?<!_)pmullw)|(?<=(?<!_)haddps)|(?<=(?<!_)vdivpd)|(?<=(?<!_)fmul)|(?<=(?<!_)scasw)|(?<=(?<!_)fsincos)|(?<=(?<!_)kandq)|(?<=(?<!_)vpmuludq)|(?<=(?<!_)andn)|(?<=(?<!_)pushad)|(?<=(?<!_)psllw)|(?<=(?<!_)wrgsbase)|(?<=(?<!_)vpsrldq)|(?<=(?<!_)vminss)|(?<=(?<!_)vpminsw)|(?<=(?<!_)kandnd)|(?<=(?<!_)vpermi2pd)|(?<=(?<!_)vpmovd2m)|(?<=(?<!_)hlt)|(?<=(?<!_)vcvttpd2dq)|(?<=(?<!_)maxsd)|(?<=(?<!_)vpmovsxbd)|(?<=(?<!_)pcmpgtb)|(?<=(?<!_)comisd)|(?<=(?<!_)xsavec)|(?<=(?<!_)vrndscalesd)|(?<=(?<!_)movnti)|(?<=(?<!_)fbstp)|(?<=(?<!_)sbb)|(?<=(?<!_)vpxorq)|(?<=(?<!_)vpsravw)|(?<=(?<!_)vpgatherdq)|(?<=(?<!_)cpuid)|(?<=(?<!_)ud0)|(?<=(?<!_)vfmaddsub213pd)|(?<=(?<!_)vpconflictd)|(?<=(?<!_)vfnmsub213sd)|(?<=(?<!_)xbegin)|(?<=(?<!_)psrlq)|(?<=(?<!_)fucom)|(?<=(?<!_)vpsubsw)|(?<=(?<!_)movntq)|(?<=(?<!_)vpmaskmovd)|(?<=(?<!_)ja)|(?<=(?<!_)vpunpckhdq)|(?<=(?<!_)vcvttps2dq)|(?<=(?<!_)fcmovnb)|(?<=(?<!_)vmovlhps)|(?<=(?<!_)unpckhps)|(?<=(?<!_)cbw)|(?<=(?<!_)vminps)|(?<=(?<!_)fidiv)|(?<=(?<!_)subsd)|(?<=(?<!_)movshdup)|(?<=(?<!_)aas)|(?<=(?<!_)vrsqrt28sd)|(?<=(?<!_)popa)|(?<=(?<!_)vpmovsdb)|(?<=(?<!_)kshiftlq)|(?<=(?<!_)kxord)|(?<=(?<!_)mov)|(?<=(?<!_)setnbe)|(?<=(?<!_)shrx)|(?<=(?<!_)setg)|(?<=(?<!_)paddusb)|(?<=(?<!_)xabort)|(?<=(?<!_)vaddss)|(?<=(?<!_)aesdeclast)|(?<=(?<!_)vpmaxsw)|(?<=(?<!_)ktestb)|(?<=(?<!_)jna)|(?<=(?<!_)vgatherpf1dps)|(?<=(?<!_)divpd)|(?<=(?<!_)vpmovswb)|(?<=(?<!_)movbe)|(?<=(?<!_)vfixupimmss)|(?<=(?<!_)wbinvd)|(?<=(?<!_)psubusw)|(?<=(?<!_)vmovdqu)|(?<=(?<!_)jnbe)|(?<=(?<!_)vprorvq)|(?<=(?<!_)stmxcsr)|(?<=(?<!_)vperm2f128)|(?<=(?<!_)kmovb)|(?<=(?<!_)phminposuw)|(?<=(?<!_)vmaxpd)|(?<=(?<!_)vsubss)|(?<=(?<!_)vpermilpd)|(?<=(?<!_)fstp)|(?<=(?<!_)btr)|(?<=(?<!_)vfnmadd231ps)|(?<=(?<!_)rcpss)|(?<=(?<!_)scasb)|(?<=(?<!_)vextractps)|(?<=(?<!_)punpcklbw)|(?<=(?<!_)kshiftrw)|(?<=(?<!_)fiadd)|(?<=(?<!_)vgatherdpd)|(?<=(?<!_)vpcompressq)|(?<=(?<!_)jng)|(?<=(?<!_)setnb)|(?<=(?<!_)unpckhpd)|(?<=(?<!_)vblendvps)|(?<=(?<!_)vpcmpgtd)|(?<=(?<!_)cmpss)|(?<=(?<!_)kmovd)|(?<=(?<!_)fchs)|(?<=(?<!_)frstor)|(?<=(?<!_)jge)|(?<=(?<!_)pshufw)|(?<=(?<!_)vscatterpf0qps)|(?<=(?<!_)ldmxcsr)|(?<=(?<!_)cmovnge)|(?<=(?<!_)shufps)|(?<=(?<!_)vdpps)|(?<=(?<!_)vpaddusw)|(?<=(?<!_)sha1nexte)|(?<=(?<!_)vpavgb)|(?<=(?<!_)vfmadd213ss)|(?<=(?<!_)vpmovm2d)|(?<=(?<!_)xrstors64)|(?<=(?<!_)xsave64)|(?<=(?<!_)punpckhwd)|(?<=(?<!_)cmovna)|(?<=(?<!_)vunpckhpd)|(?<=(?<!_)lodsb)|(?<=(?<!_)movntpd)|(?<=(?<!_)vextractf128)|(?<=(?<!_)vpcmpq)|(?<=(?<!_)prefetcht1)|(?<=(?<!_)vscatterpf0qpd)|(?<=(?<!_)vpmovm2b)|(?<=(?<!_)mwait)|(?<=(?<!_)vcvtsi2sd)|(?<=(?<!_)insb)|(?<=(?<!_)vrsqrt14ps)|(?<=(?<!_)vfmsubadd132pd)|(?<=(?<!_)vpmovzxbq)|(?<=(?<!_)vpcmpb)|(?<=(?<!_)kxnord)|(?<=(?<!_)shl)|(?<=(?<!_)vbroadcastf32x2)|(?<=(?<!_)cvtss2sd)|(?<=(?<!_)kunpckwd)|(?<=(?<!_)addsubps)|(?<=(?<!_)cvtpi2ps)|(?<=(?<!_)iretq)|(?<=(?<!_)addps)|(?<=(?<!_)cvtss2si)|(?<=(?<!_)fyl2xp1)|(?<=(?<!_)xrstors)|(?<=(?<!_)vcvtqq2ps)|(?<=(?<!_)vgatherpf0dpd)|(?<=(?<!_)vdivsd)|(?<=(?<!_)vfmsub132sd)|(?<=(?<!_)knotw)|(?<=(?<!_)vmovhps)|(?<=(?<!_)vorps)|(?<=(?<!_)pshuflw)|(?<=(?<!_)vpslld)|(?<=(?<!_)pmulld)|(?<=(?<!_)vpmaskmovq)|(?<=(?<!_)vfmadd213pd)|(?<=(?<!_)palignr)|(?<=(?<!_)fcmovu)|(?<=(?<!_)fstcw)|(?<=(?<!_)cvttps2pi)|(?<=(?<!_)cmpxchg)|(?<=(?<!_)sqrtss)|(?<=(?<!_)vexpandps)|(?<=(?<!_)vpmovm2w)|(?<=(?<!_)vfmsubadd132ps)|(?<=(?<!_)vcvttpd2udq)|(?<=(?<!_)loope)|(?<=(?<!_)pextrb)|(?<=(?<!_)vpblendd)|(?<=(?<!_)vpcmpuq)|(?<=(?<!_)rdseed)|(?<=(?<!_)vpxord)|(?<=(?<!_)vpsubusw)|(?<=(?<!_)vfmadd132pd)|(?<=(?<!_)vpermt2w)|(?<=(?<!_)lidt)|(?<=(?<!_)shr)|(?<=(?<!_)vplzcntq)|(?<=(?<!_)vzeroupper)|(?<=(?<!_)kandd)|(?<=(?<!_)fucomi)|(?<=(?<!_)vgatherpf0dps)|(?<=(?<!_)cdqe)|(?<=(?<!_)sha1msg1)|(?<=(?<!_)vexpandpd)|(?<=(?<!_)vfmaddsub132ps)|(?<=(?<!_)vpsllvq)|(?<=(?<!_)vpexpandq)|(?<=(?<!_)vpabsb)|(?<=(?<!_)vmovmskps)|(?<=(?<!_)setc)|(?<=(?<!_)xrstor)|(?<=(?<!_)fisttp)|(?<=(?<!_)vmaskmovpd)|(?<=(?<!_)pcmpeqb)|(?<=(?<!_)cvttss2si)|(?<=(?<!_)fincstp)|(?<=(?<!_)fnstenv)|(?<=(?<!_)psllq)|(?<=(?<!_)pmaxub)|(?<=(?<!_)fld)|(?<=(?<!_)vpunpcklbw)|(?<=(?<!_)punpckldq)|(?<=(?<!_)vpcmpuw)|(?<=(?<!_)vpmulhuw)|(?<=(?<!_)vaddpd)|(?<=(?<!_)cmovng)|(?<=(?<!_)vcompressps)|(?<=(?<!_)movmskpd)|(?<=(?<!_)pmuldq)|(?<=(?<!_)vpaddusb)|(?<=(?<!_)setb)|(?<=(?<!_)cmovnbe)|(?<=(?<!_)fsin)|(?<=(?<!_)vmpsadbw)|(?<=(?<!_)lsl)|(?<=(?<!_)vpermt2d)|(?<=(?<!_)vaesimc)|(?<=(?<!_)vpminud)|(?<=(?<!_)aam)|(?<=(?<!_)valignd)|(?<=(?<!_)vpmovqb)|(?<=(?<!_)vlddqu)|(?<=(?<!_)vaddps)|(?<=(?<!_)pmovmskb)|(?<=(?<!_)mulpd)|(?<=(?<!_)vpmovsxdq)|(?<=(?<!_)vptestmd)|(?<=(?<!_)vbroadcastf128)|(?<=(?<!_)pause)|(?<=(?<!_)insw)|(?<=(?<!_)vfnmadd132sd)|(?<=(?<!_)psignd)|(?<=(?<!_)vrcp14pd)|(?<=(?<!_)vpmovuswb)|(?<=(?<!_)js)|(?<=(?<!_)xlatb)|(?<=(?<!_)stosw)|(?<=(?<!_)fptan)|(?<=(?<!_)vscalefpd)|(?<=(?<!_)vrndscaless)|(?<=(?<!_)sqrtsd)|(?<=(?<!_)sub)|(?<=(?<!_)vhsubpd)|(?<=(?<!_)vfmadd132ss)|(?<=(?<!_)punpckhdq)|(?<=(?<!_)sti)|(?<=(?<!_)vscatterqpd)|(?<=(?<!_)fxsave64)|(?<=(?<!_)vfmaddsub213ps)|(?<=(?<!_)minps)|(?<=(?<!_)fucomp)|(?<=(?<!_)vfmadd231ss)|(?<=(?<!_)jnge)|(?<=(?<!_)kxnorb)|(?<=(?<!_)vtestpd)|(?<=(?<!_)jo)|(?<=(?<!_)psignb)|(?<=(?<!_)vpsravq)|(?<=(?<!_)pmovsxdq)|(?<=(?<!_)adox)|(?<=(?<!_)vsqrtss)|(?<=(?<!_)vpshufb)|(?<=(?<!_)vpunpckhwd)|(?<=(?<!_)pmovsxbd)|(?<=(?<!_)les)|(?<=(?<!_)fninit)|(?<=(?<!_)xsaveopt64)|(?<=(?<!_)kandnq)|(?<=(?<!_)call)|(?<=(?<!_)pandn)|(?<=(?<!_)aesdec)|(?<=(?<!_)verr)|(?<=(?<!_)vpsignw)|(?<=(?<!_)hsubpd)|(?<=(?<!_)fscale)|(?<=(?<!_)vfnmsub231ps)|(?<=(?<!_)setna)|(?<=(?<!_)vprolq)|(?<=(?<!_)vpermw)|(?<=(?<!_)vmulps)|(?<=(?<!_)movhlps)|(?<=(?<!_)vpmaxuq)|(?<=(?<!_)vcvttpd2qq)|(?<=(?<!_)xor)|(?<=(?<!_)subpd)|(?<=(?<!_)kaddd)|(?<=(?<!_)f2xm1)|(?<=(?<!_)xadd)|(?<=(?<!_)vpgatherqd)|(?<=(?<!_)vpackssdw)|(?<=(?<!_)kunpckbw)|(?<=(?<!_)popfq)|(?<=(?<!_)paddq)|(?<=(?<!_)vpsubusb)|(?<=(?<!_)cmovnb)|(?<=(?<!_)cmpsb)|(?<=(?<!_)vrsqrtps)|(?<=(?<!_)fldln2)|(?<=(?<!_)wrpkru)|(?<=(?<!_)cmovne)|(?<=(?<!_)vpminsd)|(?<=(?<!_)vpermd)|(?<=(?<!_)rdpid)|(?<=(?<!_)vunpckhps)|(?<=(?<!_)minpd)|(?<=(?<!_)vpsubw)|(?<=(?<!_)vpextrq)|(?<=(?<!_)vpmulhw)|(?<=(?<!_)vpermt2ps)|(?<=(?<!_)vrcpps)|(?<=(?<!_)vcvtps2pd)|(?<=(?<!_)vfnmadd231pd)|(?<=(?<!_)vcvtss2si)|(?<=(?<!_)fst)|(?<=(?<!_)fcmovne)|(?<=(?<!_)packssdw)|(?<=(?<!_)ktestd)|(?<=(?<!_)prefetcht0)|(?<=(?<!_)pblendvb)|(?<=(?<!_)phaddw)|(?<=(?<!_)vcvttpd2uqq)|(?<=(?<!_)vpmaddubsw)|(?<=(?<!_)vpbroadcastd)|(?<=(?<!_)phsubd)|(?<=(?<!_)vptestnmd)|(?<=(?<!_)pmaxsb)|(?<=(?<!_)pminuw)|(?<=(?<!_)vpacksswb)|(?<=(?<!_)vpmuldq)|(?<=(?<!_)knotd)|(?<=(?<!_)vcvtpd2udq)|(?<=(?<!_)pmovsxwq)|(?<=(?<!_)rcpps)|(?<=(?<!_)jg)|(?<=(?<!_)movlps)|(?<=(?<!_)divss)|(?<=(?<!_)pmovzxbd)|(?<=(?<!_)fcos)|(?<=(?<!_)vpsllw)|(?<=(?<!_)maskmovq)|(?<=(?<!_)vaesdeclast)|(?<=(?<!_)movmskps)|(?<=(?<!_)xend)|(?<=(?<!_)fabs)|(?<=(?<!_)vexp2ps)|(?<=(?<!_)pmaxud)|(?<=(?<!_)vpcmpw)|(?<=(?<!_)mulsd)|(?<=(?<!_)vhaddps)|(?<=(?<!_)fstsw)|(?<=(?<!_)punpcklwd)|(?<=(?<!_)vroundpd)|(?<=(?<!_)vpternlogd)|(?<=(?<!_)xlat)|(?<=(?<!_)leave)|(?<=(?<!_)fcomip)|(?<=(?<!_)setnc)|(?<=(?<!_)cmovnp)|(?<=(?<!_)korw)|(?<=(?<!_)vpmovzxbw)|(?<=(?<!_)andps)|(?<=(?<!_)vcompresspd)|(?<=(?<!_)aeskeygenassist)|(?<=(?<!_)xacquire)|(?<=(?<!_)lock)|(?<=(?<!_)fcmovnbe)|(?<=(?<!_)add)|(?<=(?<!_)vgatherpf1qpd)|(?<=(?<!_)vpsravd)|(?<=(?<!_)vmovups)|(?<=(?<!_)vpmovsxwq)|(?<=(?<!_)maskmovdqu)|(?<=(?<!_)vpcmpgtq)|(?<=(?<!_)fadd)|(?<=(?<!_)vaddsubpd)|(?<=(?<!_)vsubps)|(?<=(?<!_)vscatterqps)|(?<=(?<!_)vpbroadcastq)|(?<=(?<!_)vpbroadcastb)|(?<=(?<!_)vrsqrt28ss)|(?<=(?<!_)vprolvq)|(?<=(?<!_)ucomiss)|(?<=(?<!_)vgatherpf1dpd)|(?<=(?<!_)ktestw)|(?<=(?<!_)andpd)|(?<=(?<!_)cvtps2pi)|(?<=(?<!_)jp)|(?<=(?<!_)cmovbe)|(?<=(?<!_)vphaddd)|(?<=(?<!_)setnl)|(?<=(?<!_)movups)|(?<=(?<!_)vroundss)|(?<=(?<!_)wait)|(?<=(?<!_)rsqrtss)|(?<=(?<!_)vpsubsb)|(?<=(?<!_)cmp)|(?<=(?<!_)vfnmsub132sd)|(?<=(?<!_)xtest)|(?<=(?<!_)vmovdqa32)|(?<=(?<!_)vpsrlq)|(?<=(?<!_)vfmadd132ps)|(?<=(?<!_)phaddd)|(?<=(?<!_)vpsraw)|(?<=(?<!_)pmovsxwd)|(?<=(?<!_)sar)|(?<=(?<!_)out)|(?<=(?<!_)vpmullw)|(?<=(?<!_)pmovzxwd)|(?<=(?<!_)vpermq)|(?<=(?<!_)vptestnmb)|(?<=(?<!_)sha256msg1)|(?<=(?<!_)psrlw)|(?<=(?<!_)vucomisd)|(?<=(?<!_)vpblendmq)|(?<=(?<!_)pcmpgtq)|(?<=(?<!_)xsetbv)|(?<=(?<!_)vpaddb)|(?<=(?<!_)movsldup)|(?<=(?<!_)vpabsd)|(?<=(?<!_)vpandq)|(?<=(?<!_)vpmovsqd)|(?<=(?<!_)pcmpestri)|(?<=(?<!_)vpmovsqw)|(?<=(?<!_)vstmxcsr)|(?<=(?<!_)vpmovmskb)|(?<=(?<!_)cmpxchg8b)|(?<=(?<!_)roundps)|(?<=(?<!_)fldz)|(?<=(?<!_)vphaddw)|(?<=(?<!_)ret)|(?<=(?<!_)sfence)|(?<=(?<!_)vreducepd)|(?<=(?<!_)vaesenc)|(?<=(?<!_)invlpg)|(?<=(?<!_)fsubp)|(?<=(?<!_)vrsqrt28pd)|(?<=(?<!_)vpminsq)|(?<=(?<!_)kandnw)|(?<=(?<!_)vpscatterqd)|(?<=(?<!_)lods)|(?<=(?<!_)sidt)|(?<=(?<!_)vmovshdup)|(?<=(?<!_)pmulhrsw)|(?<=(?<!_)vperm2i128)|(?<=(?<!_)vblendmps)|(?<=(?<!_)cmovpe)|(?<=(?<!_)vfmsub231sd)|(?<=(?<!_)vcvtsi2ss)|(?<=(?<!_)vextractf64x4)|(?<=(?<!_)setae)|(?<=(?<!_)vmovhpd)|(?<=(?<!_)lodsd)|(?<=(?<!_)phaddsw)|(?<=(?<!_)ptwrite)|(?<=(?<!_)vpcmpeqw)|(?<=(?<!_)vorpd)|(?<=(?<!_)stosb)|(?<=(?<!_)lddqu)|(?<=(?<!_)sha256msg2)|(?<=(?<!_)pdep)|(?<=(?<!_)prefetchwt1)|(?<=(?<!_)vcvtuqq2pd)|(?<=(?<!_)setbe)|(?<=(?<!_)stos)|(?<=(?<!_)setl)|(?<=(?<!_)fprem1)|(?<=(?<!_)cmpsd)|(?<=(?<!_)phsubw)|(?<=(?<!_)in)|(?<=(?<!_)cmovnle)|(?<=(?<!_)popad)|(?<=(?<!_)vpaddsb)|(?<=(?<!_)fisub)|(?<=(?<!_)vpmaxuw)|(?<=(?<!_)fidivr)|(?<=(?<!_)vgetexpsd)|(?<=(?<!_)vcvtudq2pd)|(?<=(?<!_)ins)|(?<=(?<!_)vpblendmd)|(?<=(?<!_)vcmpsd)|(?<=(?<!_)vpaddsw)|(?<=(?<!_)vgatherpf1qps)|(?<=(?<!_)invd)|(?<=(?<!_)bswap)|(?<=(?<!_)vfmsub231ps)|(?<=(?<!_)vmovd)|(?<=(?<!_)prefetchnta)|(?<=(?<!_)vcvtsd2ss)|(?<=(?<!_)div)|(?<=(?<!_)xchg)|(?<=(?<!_)vpsubq)|(?<=(?<!_)vzeroall)|(?<=(?<!_)sysenter)|(?<=(?<!_)vpblendw)|(?<=(?<!_)vpcmpeqq)|(?<=(?<!_)addsubpd)|(?<=(?<!_)vfmadd213ps)|(?<=(?<!_)vmovmskpd)|(?<=(?<!_)fprem)|(?<=(?<!_)pcmpestrm)|(?<=(?<!_)vpmovusqw)|(?<=(?<!_)vcvtpd2qq)|(?<=(?<!_)kandb)|(?<=(?<!_)orps)|(?<=(?<!_)vpackusdw)|(?<=(?<!_)lfence)|(?<=(?<!_)orpd)|(?<=(?<!_)vscatterpf1dps)|(?<=(?<!_)fyl2x)|(?<=(?<!_)vcvtss2usi)|(?<=(?<!_)vrndscaleps)|(?<=(?<!_)movsq)|(?<=(?<!_)bndcl)|(?<=(?<!_)fdivp)|(?<=(?<!_)vunpcklpd)|(?<=(?<!_)divsd)|(?<=(?<!_)vhaddpd)|(?<=(?<!_)rdrand)|(?<=(?<!_)vfnmadd213ss)|(?<=(?<!_)jnc)|(?<=(?<!_)vfmadd132sd)|(?<=(?<!_)vmovdqu64)|(?<=(?<!_)vsubpd)|(?<=(?<!_)vcvttsd2usi)|(?<=(?<!_)maxps)|(?<=(?<!_)vpmulhrsw)|(?<=(?<!_)lodsq)|(?<=(?<!_)fsqrt)|(?<=(?<!_)jnp)|(?<=(?<!_)vinserti128)|(?<=(?<!_)kortestq)|(?<=(?<!_)vbroadcastf64x2)|(?<=(?<!_)cmovg)|(?<=(?<!_)pcmpgtd)|(?<=(?<!_)vcvttss2si)|(?<=(?<!_)vaddsubps)|(?<=(?<!_)vpinsrd)|(?<=(?<!_)rdpmc)|(?<=(?<!_)cmpxchg16b)|(?<=(?<!_)bndcn)|(?<=(?<!_)vmulpd)|(?<=(?<!_)pinsrw)|(?<=(?<!_)vpermt2q)|(?<=(?<!_)vpsignb)|(?<=(?<!_)psadbw)|(?<=(?<!_)vpackuswb)|(?<=(?<!_)vandnpd)|(?<=(?<!_)pextrq)|(?<=(?<!_)punpckhqdq)|(?<=(?<!_)ucomisd)|(?<=(?<!_)sysexit)|(?<=(?<!_)vfmsub213sd)|(?<=(?<!_)movs)|(?<=(?<!_)pmaxsd)|(?<=(?<!_)vpaddd)|(?<=(?<!_)pminsb)|(?<=(?<!_)addss)|(?<=(?<!_)movq)|(?<=(?<!_)vmovupd)|(?<=(?<!_)vbroadcasti128)|(?<=(?<!_)fnstcw)|(?<=(?<!_)pxor)|(?<=(?<!_)vscatterdpd)|(?<=(?<!_)pmulhuw)|(?<=(?<!_)fldenv)|(?<=(?<!_)por)|(?<=(?<!_)std)|(?<=(?<!_)fpatan)|(?<=(?<!_)vrsqrt28ps)|(?<=(?<!_)vfnmsub213pd)|(?<=(?<!_)vpmovb2m)|(?<=(?<!_)psrad)|(?<=(?<!_)bndstx)|(?<=(?<!_)vpmovzxdq)|(?<=(?<!_)neg)|(?<=(?<!_)popf)|(?<=(?<!_)vbroadcasti32x4)|(?<=(?<!_)jnae)|(?<=(?<!_)vpermi2w)|(?<=(?<!_)vphsubd)|(?<=(?<!_)vpsrlvw)|(?<=(?<!_)vcvtpd2uqq)|(?<=(?<!_)cqo)|(?<=(?<!_)vfmsub231pd)|(?<=(?<!_)packuswb)|(?<=(?<!_)vmovdqu16)|(?<=(?<!_)vptestnmq)|(?<=(?<!_)psubw)|(?<=(?<!_)blendvps)|(?<=(?<!_)vpbroadcastw)|(?<=(?<!_)kshiftrb)|(?<=(?<!_)pblendw)|(?<=(?<!_)scas)|(?<=(?<!_)vextractf32x4)|(?<=(?<!_)vpunpckhqdq)|(?<=(?<!_)vfmsub132ps)|(?<=(?<!_)cmovb)|(?<=(?<!_)vaeskeygenassist)|(?<=(?<!_)pinsrd)|(?<=(?<!_)cvtsd2ss)|(?<=(?<!_)kshiftld)|(?<=(?<!_)ud2)|(?<=(?<!_)vpshufd)|(?<=(?<!_)vblendvpd)|(?<=(?<!_)vpcmpeqd)|(?<=(?<!_)paddd)|(?<=(?<!_)rsqrtps)|(?<=(?<!_)vrcp14sd)|(?<=(?<!_)movupd)|(?<=(?<!_)jmp)|(?<=(?<!_)paddb)|(?<=(?<!_)prefetchw)|(?<=(?<!_)mul)|(?<=(?<!_)verw)|(?<=(?<!_)vaesdec)|(?<=(?<!_)psrld)|(?<=(?<!_)vpmovusqd)|(?<=(?<!_)kshiftlw)|(?<=(?<!_)vpsllq)|(?<=(?<!_)fldl2e)|(?<=(?<!_)vgatherpf0qpd)|(?<=(?<!_)vpandd)|(?<=(?<!_)vblendmpd)|(?<=(?<!_)vpcmpestri)|(?<=(?<!_)pclmulqdq)|(?<=(?<!_)fnclex)|(?<=(?<!_)vfnmadd231sd)|(?<=(?<!_)jb)|(?<=(?<!_)lds)|(?<=(?<!_)vcvtuqq2ps)|(?<=(?<!_)mulx)|(?<=(?<!_)vscalefps)|(?<=(?<!_)lfs)|(?<=(?<!_)vpmovm2q)|(?<=(?<!_)vpextrw)|(?<=(?<!_)vcvtps2dq)|(?<=(?<!_)vpandnq)|(?<=(?<!_)vpcmpestrm)|(?<=(?<!_)vrcp28sd)|(?<=(?<!_)fsubrp)|(?<=(?<!_)vroundps)|(?<=(?<!_)vsqrtps)|(?<=(?<!_)tzcnt)|(?<=(?<!_)daa)|(?<=(?<!_)vpxor)|(?<=(?<!_)jnle)|(?<=(?<!_)ktestq)|(?<=(?<!_)vfmsub132pd)|(?<=(?<!_)ud1)|(?<=(?<!_)vpermi2d)|(?<=(?<!_)vhsubps)|(?<=(?<!_)clts)|(?<=(?<!_)sha1msg2)|(?<=(?<!_)clflushopt)|(?<=(?<!_)pmovsxbw)|(?<=(?<!_)fdecstp)|(?<=(?<!_)kxorb)|(?<=(?<!_)vpsrlvd)|(?<=(?<!_)addsd)|(?<=(?<!_)jnz)|(?<=(?<!_)vporq)|(?<=(?<!_)pushfq)|(?<=(?<!_)haddpd)|(?<=(?<!_)jecxz)|(?<=(?<!_)lgdt)|(?<=(?<!_)vandnps)|(?<=(?<!_)vpscatterqq)|(?<=(?<!_)jne)|(?<=(?<!_)vcvttsd2si)|(?<=(?<!_)clwb)|(?<=(?<!_)fucomip)|(?<=(?<!_)vbroadcastf32x4)|(?<=(?<!_)pushf)|(?<=(?<!_)movapd)|(?<=(?<!_)vfpclasspd)|(?<=(?<!_)vgatherqpd)|(?<=(?<!_)jz)|(?<=(?<!_)bextr)|(?<=(?<!_)vreducess)|(?<=(?<!_)vscatterpf0dps)|(?<=(?<!_)vdppd)|(?<=(?<!_)vpminuq)|(?<=(?<!_)crc32)|(?<=(?<!_)vrsqrt14ss)|(?<=(?<!_)vfnmsub132ps)|(?<=(?<!_)vpcmpgtw)|(?<=(?<!_)vblendps)|(?<=(?<!_)vcmpps)|(?<=(?<!_)vfnmsub231sd)|(?<=(?<!_)aad)|(?<=(?<!_)packusdw)|(?<=(?<!_)movhps)|(?<=(?<!_)scasd)|(?<=(?<!_)movntps)|(?<=(?<!_)vpternlogq)|(?<=(?<!_)cmovo)|(?<=(?<!_)vcmppd)|(?<=(?<!_)vcomisd)|(?<=(?<!_)monitor)|(?<=(?<!_)vgetexpss)|(?<=(?<!_)fcmove)|(?<=(?<!_)adc)|(?<=(?<!_)inc)|(?<=(?<!_)invpcid)|(?<=(?<!_)seta)|(?<=(?<!_)vshufi64x2)|(?<=(?<!_)vfixupimmps)|(?<=(?<!_)vfnmadd132ps)|(?<=(?<!_)pop)|(?<=(?<!_)vpgatherqq)|(?<=(?<!_)fxrstor64)|(?<=(?<!_)vbroadcasti32x8)|(?<=(?<!_)setne)|(?<=(?<!_)blendps)|(?<=(?<!_)ror)|(?<=(?<!_)vpmovwb)|(?<=(?<!_)vfmaddsub132pd)|(?<=(?<!_)fcmovbe)|(?<=(?<!_)kaddb)|(?<=(?<!_)fxam)|(?<=(?<!_)vmovlpd)|(?<=(?<!_)swapgs)|(?<=(?<!_)vfpclassss)|(?<=(?<!_)xsavec64)|(?<=(?<!_)unpcklps)|(?<=(?<!_)hsubps)|(?<=(?<!_)cmovnz)|(?<=(?<!_)cmpps)|(?<=(?<!_)fdivr)|(?<=(?<!_)vpord)|(?<=(?<!_)fcmovb)|(?<=(?<!_)psubb)|(?<=(?<!_)kmovw)|(?<=(?<!_)idiv)|(?<=(?<!_)iretd)|(?<=(?<!_)vpalignr)|(?<=(?<!_)vpinsrw)|(?<=(?<!_)vfixupimmsd)|(?<=(?<!_)vfmsubadd213ps)|(?<=(?<!_)psubsb)|(?<=(?<!_)vpscatterdd)|(?<=(?<!_)vcvtsd2si)|(?<=(?<!_)vmulss)|(?<=(?<!_)cvttps2dq)|(?<=(?<!_)movdqu)|(?<=(?<!_)vmaxss)|(?<=(?<!_)fldlg2)|(?<=(?<!_)blsi)|(?<=(?<!_)fnstsw)|(?<=(?<!_)ffree)|(?<=(?<!_)fnsave)|(?<=(?<!_)psignw)|(?<=(?<!_)vpmovusqb)|(?<=(?<!_)vshufps)|(?<=(?<!_)vpmaxub)|(?<=(?<!_)loop)|(?<=(?<!_)vgetexpps)|(?<=(?<!_)vptestmq)|(?<=(?<!_)stac)|(?<=(?<!_)vexp2pd)|(?<=(?<!_)vpmovsqb)|(?<=(?<!_)stosd)|(?<=(?<!_)vxorps)|(?<=(?<!_)fmulp)|(?<=(?<!_)faddp)|(?<=(?<!_)movntdq)|(?<=(?<!_)vcvtps2udq)|(?<=(?<!_)rdfsbase)|(?<=(?<!_)wrfsbase)|(?<=(?<!_)fcomp)|(?<=(?<!_)outs)|(?<=(?<!_)vpaddw)|(?<=(?<!_)vpmulld)|(?<=(?<!_)vscatterpf1dpd)|(?<=(?<!_)fcompp)|(?<=(?<!_)movss)|(?<=(?<!_)pshufd)|(?<=(?<!_)vpor)|(?<=(?<!_)vmovsd)|(?<=(?<!_)bsr)|(?<=(?<!_)pmovsxbq)|(?<=(?<!_)paddsw)|(?<=(?<!_)pabsb)|(?<=(?<!_)kandnb)|(?<=(?<!_)jnl)|(?<=(?<!_)pmovzxbw)|(?<=(?<!_)kshiftlb)|(?<=(?<!_)vucomiss)|(?<=(?<!_)vmovq)|(?<=(?<!_)sysret)|(?<=(?<!_)shld)|(?<=(?<!_)vmovhlps)|(?<=(?<!_)vldmxcsr)|(?<=(?<!_)cmovnl)|(?<=(?<!_)mpsadbw)|(?<=(?<!_)vunpcklps)|(?<=(?<!_)fxch)|(?<=(?<!_)cvttpd2dq)|(?<=(?<!_)cvtsi2ss)|(?<=(?<!_)vpmovsxbw)|(?<=(?<!_)rdgsbase)|(?<=(?<!_)pext)|(?<=(?<!_)cvttpd2pi)|(?<=(?<!_)kxnorw)|(?<=(?<!_)vpsraq)|(?<=(?<!_)vcomiss)|(?<=(?<!_)vshuff32x4)|(?<=(?<!_)loopne)|(?<=(?<!_)pminud)|(?<=(?<!_)comiss)|(?<=(?<!_)vinsertf128)|(?<=(?<!_)xsaves64)|(?<=(?<!_)cmovl)|(?<=(?<!_)cmovnc)|(?<=(?<!_)cdq)|(?<=(?<!_)vgetmantss)|(?<=(?<!_)vrcp14ss)|(?<=(?<!_)jae)|(?<=(?<!_)vptestmb)|(?<=(?<!_)setnae)|(?<=(?<!_)vfnmsub231ss)|(?<=(?<!_)pextrd)|(?<=(?<!_)push)|(?<=(?<!_)vfmsub213ps)|(?<=(?<!_)vfnmsub213ss)|(?<=(?<!_)lahf)|(?<=(?<!_)vpbroadcastmw2d)|(?<=(?<!_)vpsrld)|(?<=(?<!_)pmovzxdq)|(?<=(?<!_)mulss)|(?<=(?<!_)fcomi)|(?<=(?<!_)bt)|(?<=(?<!_)movsx)|(?<=(?<!_)vcvtusi2sd)|(?<=(?<!_)vpbroadcastmb2q)|(?<=(?<!_)nop)|(?<=(?<!_)vfmsubadd231pd)|(?<=(?<!_)vdbpsadbw)|(?<=(?<!_)vmovss)|(?<=(?<!_)vpermpd)|(?<=(?<!_)jno)|(?<=(?<!_)rsm)|(?<=(?<!_)roundss)|(?<=(?<!_)vptestmw)|(?<=(?<!_)cvtdq2ps)|(?<=(?<!_)vfmsub213pd)|(?<=(?<!_)pmaddubsw)|(?<=(?<!_)ptest)|(?<=(?<!_)lmsw)|(?<=(?<!_)vpsadbw)|(?<=(?<!_)vmaxsd)|(?<=(?<!_)insd)|(?<=(?<!_)jc)|(?<=(?<!_)vpmovw2m)|(?<=(?<!_)cmovnae)|(?<=(?<!_)cmovno)|(?<=(?<!_)vpclmulqdq)|(?<=(?<!_)vpmovusdb)|(?<=(?<!_)pmovzxbq)|(?<=(?<!_)cmova)|(?<=(?<!_)vpavgw)|(?<=(?<!_)vmaskmovdqu)|(?<=(?<!_)vmovntdq)|(?<=(?<!_)knotq)|(?<=(?<!_)vreducesd)|(?<=(?<!_)movdq2q)|(?<=(?<!_)sha1rnds4)|(?<=(?<!_)shrd)|(?<=(?<!_)kandw)|(?<=(?<!_)vpunpcklqdq)|(?<=(?<!_)cvtpd2pi)|(?<=(?<!_)vgetmantpd)|(?<=(?<!_)vfnmsub132pd)|(?<=(?<!_)vdivps)|(?<=(?<!_)pcmpeqw)|(?<=(?<!_)pcmpeqd)|(?<=(?<!_)pinsrb)|(?<=(?<!_)vptest)|(?<=(?<!_)vphaddsw)|(?<=(?<!_)vpcmpgtb)|(?<=(?<!_)vmovsldup)|(?<=(?<!_)vpermi2ps)|(?<=(?<!_)vpmovsxbq)|(?<=(?<!_)vpslldq)|(?<=(?<!_)vpshuflw)|(?<=(?<!_)vpsrad)|(?<=(?<!_)enter)|(?<=(?<!_)vgatherdps)|(?<=(?<!_)movsb)|(?<=(?<!_)rorx)|(?<=(?<!_)vrcpss)|(?<=(?<!_)vpinsrq)|(?<=(?<!_)pslldq)|(?<=(?<!_)jbe)|(?<=(?<!_)vrndscalepd)|(?<=(?<!_)vbroadcasti64x2)|(?<=(?<!_)vphminposuw)|(?<=(?<!_)vrcp28pd)|(?<=(?<!_)vminpd)|(?<=(?<!_)vscalefsd)|(?<=(?<!_)vfnmadd132pd)|(?<=(?<!_)imul)|(?<=(?<!_)vpunpckhbw)|(?<=(?<!_)fisubr)|(?<=(?<!_)vinsertps)|(?<=(?<!_)cvttsd2si)|(?<=(?<!_)vgetmantps)|(?<=(?<!_)korq)|(?<=(?<!_)cmc)|(?<=(?<!_)vreduceps)|(?<=(?<!_)vfnmadd213sd)|(?<=(?<!_)addpd)|(?<=(?<!_)vpmovq2m)|(?<=(?<!_)vscalefss)|(?<=(?<!_)kunpckdq)|(?<=(?<!_)pcmpistri)|(?<=(?<!_)fxsave)|(?<=(?<!_)vscatterpf0dpd)|(?<=(?<!_)vpaddq)|(?<=(?<!_)vpmovzxwq)|(?<=(?<!_)vrsqrt14sd)|(?<=(?<!_)phsubsw)|(?<=(?<!_)fstenv)|(?<=(?<!_)lgs)|(?<=(?<!_)setle)|(?<=(?<!_)btc)|(?<=(?<!_)vmulsd)|(?<=(?<!_)vcvtps2qq)|(?<=(?<!_)vpandnd)|(?<=(?<!_)arpl)|(?<=(?<!_)fldpi)|(?<=(?<!_)fdiv)|(?<=(?<!_)mulps)|(?<=(?<!_)aaa)|(?<=(?<!_)cvtsi2sd)|(?<=(?<!_)vgetmantsd)|(?<=(?<!_)insertps)|(?<=(?<!_)kortestw)|(?<=(?<!_)pslld)|(?<=(?<!_)pusha)|(?<=(?<!_)lss)|(?<=(?<!_)pmaddwd)|(?<=(?<!_)lea)|(?<=(?<!_)maxpd)|(?<=(?<!_)xsaves)|(?<=(?<!_)vpcmpeqb)|(?<=(?<!_)vpsrlvq)|(?<=(?<!_)outsw)|(?<=(?<!_)vrangesd)|(?<=(?<!_)movsw)|(?<=(?<!_)scasq)|(?<=(?<!_)vgatherqps)|(?<=(?<!_)pabsd)|(?<=(?<!_)movsxd)|(?<=(?<!_)vextracti64x4)|(?<=(?<!_)pminsw)|(?<=(?<!_)vpsignd)|(?<=(?<!_)vpand)|(?<=(?<!_)vpsllvd)|(?<=(?<!_)pshufb)|(?<=(?<!_)shlx)|(?<=(?<!_)pmaxsw)|(?<=(?<!_)pavgw)|(?<=(?<!_)movq2dq)|(?<=(?<!_)vpcmpub)|(?<=(?<!_)vpsubb)|(?<=(?<!_)fistp)|(?<=(?<!_)kord)|(?<=(?<!_)clc)|(?<=(?<!_)vprorq)|(?<=(?<!_)iret)|(?<=(?<!_)vsqrtsd)|(?<=(?<!_)stosq)|(?<=(?<!_)punpcklqdq)|(?<=(?<!_)bndmov)|(?<=(?<!_)jle)|(?<=(?<!_)vpandn)|(?<=(?<!_)cmovns)|(?<=(?<!_)jnb)|(?<=(?<!_)cmpsw)|(?<=(?<!_)setnge)|(?<=(?<!_)vfmadd231pd)|(?<=(?<!_)vpblendmw)|(?<=(?<!_)psubusb)|(?<=(?<!_)vpgatherdd)|(?<=(?<!_)xrelease)|(?<=(?<!_)vpermt2pd)|(?<=(?<!_)fimul)|(?<=(?<!_)rdmsr)|(?<=(?<!_)vscatterpf1qps)|(?<=(?<!_)pavgb)|(?<=(?<!_)vpmovqd)|(?<=(?<!_)cvtpd2ps)|(?<=(?<!_)kshiftrq)|(?<=(?<!_)pmulhw)|(?<=(?<!_)movaps)|(?<=(?<!_)finit)|(?<=(?<!_)vrcp14ps)|(?<=(?<!_)vprorvd)|(?<=(?<!_)vcvttss2usi)|(?<=(?<!_)cmovp)|(?<=(?<!_)fxrstor)|(?<=(?<!_)vcvttps2udq)|(?<=(?<!_)vfnmsub213ps)|(?<=(?<!_)vfnmadd213pd)|(?<=(?<!_)kmovq)|(?<=(?<!_)lldt)|(?<=(?<!_)psubsw)|(?<=(?<!_)prefetcht2)|(?<=(?<!_)vbroadcastsd)|(?<=(?<!_)setnle)|(?<=(?<!_)sgdt)|(?<=(?<!_)emms)|(?<=(?<!_)cmovc)|(?<=(?<!_)vpermps)|(?<=(?<!_)vgatherpf0qps)|(?<=(?<!_)vpmovzxwd)|(?<=(?<!_)vcvtdq2ps)|(?<=(?<!_)wrmsr)|(?<=(?<!_)sqrtps)|(?<=(?<!_)fsave)|(?<=(?<!_)dppd)|(?<=(?<!_)vpmaxsd)|(?<=(?<!_)vfmsub132ss)|(?<=(?<!_)fnop)|(?<=(?<!_)roundsd)|(?<=(?<!_)vmovddup)|(?<=(?<!_)rol)|(?<=(?<!_)str)|(?<=(?<!_)mfence)|(?<=(?<!_)minss)|(?<=(?<!_)bound)|(?<=(?<!_)pshufhw)|(?<=(?<!_)outsd)|(?<=(?<!_)vandpd)|(?<=(?<!_)vrcp28ss)|(?<=(?<!_)vpshufhw)|(?<=(?<!_)bndmk)|(?<=(?<!_)vcvttps2uqq)|(?<=(?<!_)vpconflictq)|(?<=(?<!_)clac)|(?<=(?<!_)rcl)'"
      ]
     },
     "execution_count": 316,
     "metadata": {},
     "output_type": "execute_result"
    }
   ],
   "source": [
    "instructions_regex"
   ]
  },
  {
   "cell_type": "code",
   "execution_count": 348,
   "metadata": {},
   "outputs": [
    {
     "data": {
      "text/plain": [
       "'((?<=(?<!_))mov)|((?<=(?<!_))sub)|((?<=(?<!_))in)'"
      ]
     },
     "execution_count": 348,
     "metadata": {},
     "output_type": "execute_result"
    }
   ],
   "source": [
    "\"|\".join([\"((?<=(?<!_))\" + s + \")\" for s in ['mov', 'sub', 'in']])"
   ]
  },
  {
   "cell_type": "code",
   "execution_count": 347,
   "metadata": {},
   "outputs": [
    {
     "data": {
      "text/plain": [
       "['stos',\n",
       " 'setl',\n",
       " 'fprem1',\n",
       " 'cmpsd',\n",
       " 'phsubw',\n",
       " 'in',\n",
       " 'cmovnle',\n",
       " 'popad',\n",
       " 'vpaddsb',\n",
       " 'fisub']"
      ]
     },
     "execution_count": 347,
     "metadata": {},
     "output_type": "execute_result"
    }
   ],
   "source": [
    "list(set(cleaned_instructions_lower))[730:740]"
   ]
  },
  {
   "cell_type": "code",
   "execution_count": 345,
   "metadata": {},
   "outputs": [],
   "source": [
    "toy_regex = \"|\".join([\"(?<=(?<!_)\" + instruction + \")\" for instruction in list(set(cleaned_instructions_lower))[730:740]])\n",
    "\n",
    "\n",
    "\n",
    "\n",
    "\n"
   ]
  },
  {
   "cell_type": "code",
   "execution_count": 365,
   "metadata": {},
   "outputs": [],
   "source": [
    "toy_regex = \"|\".join([\"(?<=(?<!(_\\w*))\" + s + \")\" for s in ['mov', 'sub', 'in']])"
   ]
  },
  {
   "cell_type": "code",
   "execution_count": 357,
   "metadata": {},
   "outputs": [],
   "source": [
    "import regex"
   ]
  },
  {
   "cell_type": "code",
   "execution_count": 364,
   "metadata": {},
   "outputs": [
    {
     "data": {
      "text/plain": [
       "['mov',\n",
       " None,\n",
       " 'q %rsp, %rbp\\n mov',\n",
       " None,\n",
       " 'zd -8(%rax), %rbp\\n _moving_is_the_function_name: \\n']"
      ]
     },
     "execution_count": 364,
     "metadata": {},
     "output_type": "execute_result"
    }
   ],
   "source": [
    "p = '(?<=(?<!(_\\w*))mov)'\n",
    "regex.split(p, s)"
   ]
  },
  {
   "cell_type": "code",
   "execution_count": 367,
   "metadata": {},
   "outputs": [
    {
     "data": {
      "text/plain": [
       "['mov',\n",
       " None,\n",
       " None,\n",
       " None,\n",
       " 'q %rsp, %rbp\\n mov',\n",
       " None,\n",
       " None,\n",
       " None,\n",
       " 'zd -8(%rax), %rbp\\n _moving_is_the_function_name: \\n']"
      ]
     },
     "execution_count": 367,
     "metadata": {},
     "output_type": "execute_result"
    }
   ],
   "source": [
    "regex.split(toy_regex, s)"
   ]
  },
  {
   "cell_type": "code",
   "execution_count": 368,
   "metadata": {},
   "outputs": [],
   "source": [
    "instructions_regex = \"|\".join([\"(?<=(?<!(_\\w*))\" + instruction + \")\" for instruction in set(cleaned_instructions_lower)])"
   ]
  },
  {
   "cell_type": "code",
   "execution_count": 371,
   "metadata": {},
   "outputs": [
    {
     "data": {
      "text/plain": [
       "['mov',\n",
       " 'q',\n",
       " ' %rsp, %rbp\\n mov',\n",
       " 'zd -8(%rax), %rbp\\n _moving_is_the_function_name: \\n']"
      ]
     },
     "execution_count": 371,
     "metadata": {},
     "output_type": "execute_result"
    }
   ],
   "source": [
    "instructions_regex_out = regex.split(instructions_regex, s)\n",
    "list(filter(None, instructions_regex_out))"
   ]
  },
  {
   "cell_type": "code",
   "execution_count": null,
   "metadata": {},
   "outputs": [],
   "source": []
  },
  {
   "cell_type": "code",
   "execution_count": 354,
   "metadata": {},
   "outputs": [
    {
     "data": {
      "text/plain": [
       "['mov',\n",
       " 'q %rsp, %rbp\\n ',\n",
       " 'mov',\n",
       " 'zd -8(%rax), %rbp\\n _mov',\n",
       " 'in',\n",
       " 'g_is_the_function_name: \\n']"
      ]
     },
     "execution_count": 354,
     "metadata": {},
     "output_type": "execute_result"
    }
   ],
   "source": [
    "regexp_tokenize(s, toy_regex, gaps = True)"
   ]
  },
  {
   "cell_type": "code",
   "execution_count": null,
   "metadata": {},
   "outputs": [],
   "source": []
  },
  {
   "cell_type": "code",
   "execution_count": 314,
   "metadata": {},
   "outputs": [],
   "source": [
    "instructions_regex = \"|\".join([\"(?<=(?<!_)\" + instruction + \")\" for instruction in set(cleaned_instructions_lower)])"
   ]
  },
  {
   "cell_type": "code",
   "execution_count": 264,
   "metadata": {},
   "outputs": [
    {
     "data": {
      "text/plain": [
       "'(?<=(?<!_))sete|(?<=(?<!_))vphsubsw|(?<=(?<!_))vpe'"
      ]
     },
     "execution_count": 264,
     "metadata": {},
     "output_type": "execute_result"
    }
   ],
   "source": [
    "instructions_regex[:50]"
   ]
  },
  {
   "cell_type": "code",
   "execution_count": 265,
   "metadata": {},
   "outputs": [
    {
     "name": "stdout",
     "output_type": "stream",
     "text": [
      "cleaned assembly is  _super_duper_print: pushq %rbp movq %rsp, %rbp subq $16, %rsp movq %rdi, -8(%rbp) movq -8(%rbp), %rsi leaq L_ movb $0, %al callq _printf movl %eax, -12(%rbp) addq $16, %rsp popq %rbp retq _main: pushq %rbp movq %rsp, %rbp subq $16, %rsp movl $0, -4(%rbp) leaq L_ callq _super_duper_print movl $1, %eax addq $16, %rsp popq %rbp retq L_ \" L_ \" \n"
     ]
    },
    {
     "data": {
      "text/plain": [
       "[('', '', ' '),\n",
       " ('', '', ''),\n",
       " ('', '', ' '),\n",
       " ('', '', ''),\n",
       " ('', '', ' '),\n",
       " ('%rbp', '', ''),\n",
       " ('', '', ' '),\n",
       " ('', '', ''),\n",
       " ('', '', ' '),\n",
       " ('%rsp', '', ''),\n",
       " ('', ',', ''),\n",
       " ('', '', ' '),\n",
       " ('%rbp', '', ''),\n",
       " ('', '', ' '),\n",
       " ('', '', ''),\n",
       " ('', '', ' '),\n",
       " ('', ',', ''),\n",
       " ('', '', ' '),\n",
       " ('%rsp', '', ''),\n",
       " ('', '', ' '),\n",
       " ('', '', ''),\n",
       " ('', '', ' '),\n",
       " ('%rdi', '', ''),\n",
       " ('', ',', ''),\n",
       " ('', '', ' '),\n",
       " ('%rbp', '', ''),\n",
       " ('', '', ' '),\n",
       " ('', '', ''),\n",
       " ('', '', ' '),\n",
       " ('%rbp', '', ''),\n",
       " ('', ',', ''),\n",
       " ('', '', ' '),\n",
       " ('%rsi', '', ''),\n",
       " ('', '', ' '),\n",
       " ('', '', ''),\n",
       " ('', '', ' '),\n",
       " ('', '', ' '),\n",
       " ('', '', ''),\n",
       " ('', '', ' '),\n",
       " ('', ',', ''),\n",
       " ('', '', ' '),\n",
       " ('%al', '', ''),\n",
       " ('', '', ' '),\n",
       " ('', '', ''),\n",
       " ('', '', ' '),\n",
       " ('', '', ''),\n",
       " ('', '', ' '),\n",
       " ('', '', ''),\n",
       " ('', '', ' '),\n",
       " ('%eax', '', ''),\n",
       " ('', ',', ''),\n",
       " ('', '', ' '),\n",
       " ('%rbp', '', ''),\n",
       " ('', '', ' '),\n",
       " ('', '', ''),\n",
       " ('', '', ' '),\n",
       " ('', ',', ''),\n",
       " ('', '', ' '),\n",
       " ('%rsp', '', ''),\n",
       " ('', '', ' '),\n",
       " ('', '', ''),\n",
       " ('', '', ' '),\n",
       " ('%rbp', '', ''),\n",
       " ('', '', ' '),\n",
       " ('', '', ''),\n",
       " ('', '', ' '),\n",
       " ('', '', ''),\n",
       " ('', '', ' '),\n",
       " ('', '', ''),\n",
       " ('', '', ' '),\n",
       " ('%rbp', '', ''),\n",
       " ('', '', ' '),\n",
       " ('', '', ''),\n",
       " ('', '', ' '),\n",
       " ('%rsp', '', ''),\n",
       " ('', ',', ''),\n",
       " ('', '', ' '),\n",
       " ('%rbp', '', ''),\n",
       " ('', '', ' '),\n",
       " ('', '', ''),\n",
       " ('', '', ' '),\n",
       " ('', ',', ''),\n",
       " ('', '', ' '),\n",
       " ('%rsp', '', ''),\n",
       " ('', '', ' '),\n",
       " ('', '', ''),\n",
       " ('', '', ' '),\n",
       " ('', ',', ''),\n",
       " ('', '', ' '),\n",
       " ('%rbp', '', ''),\n",
       " ('', '', ' '),\n",
       " ('', '', ''),\n",
       " ('', '', ' '),\n",
       " ('', '', ' '),\n",
       " ('', '', ''),\n",
       " ('', '', ' '),\n",
       " ('', '', ''),\n",
       " ('', '', ' '),\n",
       " ('', '', ''),\n",
       " ('', '', ' '),\n",
       " ('', ',', ''),\n",
       " ('', '', ' '),\n",
       " ('%eax', '', ''),\n",
       " ('', '', ' '),\n",
       " ('', '', ''),\n",
       " ('', '', ' '),\n",
       " ('', ',', ''),\n",
       " ('', '', ' '),\n",
       " ('%rsp', '', ''),\n",
       " ('', '', ' '),\n",
       " ('', '', ''),\n",
       " ('', '', ' '),\n",
       " ('%rbp', '', ''),\n",
       " ('', '', ' '),\n",
       " ('', '', ''),\n",
       " ('', '', ' '),\n",
       " ('', '', ' '),\n",
       " ('', '', ' '),\n",
       " ('', '', ' '),\n",
       " ('', '', ' ')]"
      ]
     },
     "execution_count": 265,
     "metadata": {},
     "output_type": "execute_result"
    }
   ],
   "source": [
    "l = tokenize_assembly(assembly)\n",
    "l"
   ]
  },
  {
   "cell_type": "code",
   "execution_count": 132,
   "metadata": {},
   "outputs": [],
   "source": [
    "b = [s for s in l if s != None]\n",
    "b = [s for s in b if s not in [\" \", \"\"]]"
   ]
  },
  {
   "cell_type": "code",
   "execution_count": 133,
   "metadata": {},
   "outputs": [
    {
     "data": {
      "text/plain": [
       "['_super_duper_print:',\n",
       " 'pushq',\n",
       " '%rbp',\n",
       " 'movq',\n",
       " '%rsp',\n",
       " ',',\n",
       " '%rbp',\n",
       " 'subq',\n",
       " '$16',\n",
       " ',',\n",
       " '%rsp',\n",
       " 'movq',\n",
       " '%rdi',\n",
       " ',',\n",
       " '-8(',\n",
       " '%rbp',\n",
       " ')',\n",
       " 'movq',\n",
       " '-8(',\n",
       " '%rbp',\n",
       " ')',\n",
       " ',',\n",
       " '%rsi',\n",
       " 'leaq',\n",
       " 'L_',\n",
       " 'movb',\n",
       " '$0',\n",
       " ',',\n",
       " '%al',\n",
       " 'callq',\n",
       " '_printf',\n",
       " 'movl',\n",
       " '%eax',\n",
       " ',',\n",
       " '-12(',\n",
       " '%rbp',\n",
       " ')',\n",
       " 'addq',\n",
       " '$16',\n",
       " ',',\n",
       " '%rsp',\n",
       " 'popq',\n",
       " '%rbp',\n",
       " 'retq',\n",
       " '_main:',\n",
       " 'pushq',\n",
       " '%rbp',\n",
       " 'movq',\n",
       " '%rsp',\n",
       " ',',\n",
       " '%rbp',\n",
       " 'subq',\n",
       " '$16',\n",
       " ',',\n",
       " '%rsp',\n",
       " 'movl',\n",
       " '$0',\n",
       " ',',\n",
       " '-4(',\n",
       " '%rbp',\n",
       " ')',\n",
       " 'leaq',\n",
       " 'L_',\n",
       " 'callq',\n",
       " '_super_duper_print',\n",
       " 'movl',\n",
       " '$1',\n",
       " ',',\n",
       " '%eax',\n",
       " 'addq',\n",
       " '$16',\n",
       " ',',\n",
       " '%rsp',\n",
       " 'popq',\n",
       " '%rbp',\n",
       " 'retq',\n",
       " 'L_',\n",
       " '\"',\n",
       " 'L_',\n",
       " '\"']"
      ]
     },
     "execution_count": 133,
     "metadata": {},
     "output_type": "execute_result"
    }
   ],
   "source": [
    "b"
   ]
  },
  {
   "cell_type": "code",
   "execution_count": 98,
   "metadata": {},
   "outputs": [],
   "source": [
    "clean_regexp_string = r\"(\\..*\\n)|(\\#.*\\n)\"\n",
    "clean_regexp_string = r\"\\..*\\n\""
   ]
  },
  {
   "cell_type": "code",
   "execution_count": 111,
   "metadata": {},
   "outputs": [
    {
     "name": "stdout",
     "output_type": "stream",
     "text": [
      "\n",
      "\t\t\t\t_super_duper_print:                     \n",
      "\t\n",
      "\tpushq\t%rbp\n",
      "\t\t\tmovq\t%rsp, %rbp\n",
      "\t\tsubq\t$16, %rsp\n",
      "\tmovq\t%rdi, -8(%rbp)\n",
      "\tmovq\t-8(%rbp), %rsi\n",
      "\tleaq\tL_\tmovb\t$0, %al\n",
      "\tcallq\t_printf\n",
      "\tmovl\t%eax, -12(%rbp)         \n",
      "\taddq\t$16, %rsp\n",
      "\tpopq\t%rbp\n",
      "\tretq\n",
      "\t                                        \n",
      "\t\t_main:                                  \n",
      "\t\n",
      "\tpushq\t%rbp\n",
      "\t\t\tmovq\t%rsp, %rbp\n",
      "\t\tsubq\t$16, %rsp\n",
      "\tmovl\t$0, -4(%rbp)\n",
      "\tleaq\tL_\tcallq\t_super_duper_print\n",
      "\tmovl\t$1, %eax\n",
      "\taddq\t$16, %rsp\n",
      "\tpopq\t%rbp\n",
      "\tretq\n",
      "\t                                        \n",
      "\tL_\t\"\n",
      "\n",
      "L_\t\"\n",
      "\n",
      "\n",
      "\n",
      "\n"
     ]
    }
   ],
   "source": [
    "clean_regexp_string = r\"(\\..*\\n)|(\\#.*)\"\n",
    "s1 = re.sub(clean_regexp_string, \"\", assembly)\n",
    "\n",
    "print(s1)"
   ]
  },
  {
   "cell_type": "code",
   "execution_count": 112,
   "metadata": {},
   "outputs": [
    {
     "name": "stdout",
     "output_type": "stream",
     "text": [
      "\n",
      "\t\t\t\t_super_duper_print:                     ## @super_duper_print\n",
      "\t## %bb\tpushq\t%rbp\n",
      "\t\t\tmovq\t%rsp, %rbp\n",
      "\t\tsubq\t$16, %rsp\n",
      "\tmovq\t%rdi, -8(%rbp)\n",
      "\tmovq\t-8(%rbp), %rsi\n",
      "\tleaq\tL_\tmovb\t$0, %al\n",
      "\tcallq\t_printf\n",
      "\tmovl\t%eax, -12(%rbp)         ## 4-byte Spill\n",
      "\taddq\t$16, %rsp\n",
      "\tpopq\t%rbp\n",
      "\tretq\n",
      "\t                                        ## -- End function\n",
      "\t\t_main:                                  ## @main\n",
      "\t## %bb\tpushq\t%rbp\n",
      "\t\t\tmovq\t%rsp, %rbp\n",
      "\t\tsubq\t$16, %rsp\n",
      "\tmovl\t$0, -4(%rbp)\n",
      "\tleaq\tL_\tcallq\t_super_duper_print\n",
      "\tmovl\t$1, %eax\n",
      "\taddq\t$16, %rsp\n",
      "\tpopq\t%rbp\n",
      "\tretq\n",
      "\t                                        ## -- End function\n",
      "\tL_\t\"\n",
      "\n",
      "L_\t\"\n",
      "\n",
      "\n",
      "\n",
      "\n"
     ]
    }
   ],
   "source": [
    "clean_regexp_string = r\"\\..*\\n\"\n",
    "s2 = re.sub(clean_regexp_string, \"\", assembly)\n",
    "\n",
    "print(s2)"
   ]
  },
  {
   "cell_type": "code",
   "execution_count": null,
   "metadata": {},
   "outputs": [],
   "source": []
  },
  {
   "cell_type": "code",
   "execution_count": 89,
   "metadata": {},
   "outputs": [
    {
     "data": {
      "text/plain": [
       "['',\n",
       " None,\n",
       " None,\n",
       " ' ',\n",
       " '##',\n",
       " None,\n",
       " None,\n",
       " ' ',\n",
       " '@super_duper_print',\n",
       " None,\n",
       " None,\n",
       " '\\n',\n",
       " '',\n",
       " None,\n",
       " None,\n",
       " '\\t',\n",
       " '##',\n",
       " None,\n",
       " None,\n",
       " ' ',\n",
       " '',\n",
       " '%bb',\n",
       " None,\n",
       " None,\n",
       " '',\n",
       " None,\n",
       " None,\n",
       " '\\t',\n",
       " 'pushq',\n",
       " None,\n",
       " None,\n",
       " '\\t',\n",
       " '',\n",
       " '%rbp',\n",
       " None,\n",
       " None,\n",
       " '',\n",
       " None,\n",
       " None,\n",
       " '\\n',\n",
       " '',\n",
       " None,\n",
       " None,\n",
       " '\\t',\n",
       " '',\n",
       " None,\n",
       " None,\n",
       " '\\t',\n",
       " '',\n",
       " None]"
      ]
     },
     "execution_count": 89,
     "metadata": {},
     "output_type": "execute_result"
    }
   ],
   "source": [
    "l[100:150]"
   ]
  },
  {
   "cell_type": "code",
   "execution_count": null,
   "metadata": {},
   "outputs": [],
   "source": [
    "# def split_regex(instructions: List[str], register_regexp: str = r\"(\\%\\w+)|(,)|(\\s)\", instruction_prefix: str = r\"(?<=(?<!(_\\w*))\"): \n",
    "#     indiv_regexp = [instruction_prefix + instruction + \")\" for instruction in instructions]\n",
    "#     joined_instruction_regexp = \"|\".join(indiv_regexp)\n",
    "#     split_regexp = joined_instruction_regexp + register_regexp\n",
    "#     return split_regexp\n",
    "    \n",
    "# def split_regex(instructions: List[str], register_regexp: str = r\"(?<=\\()|(?=\\))|(?<=\\%\\w+,)|(\\%\\w+\\s)|\\s\", instruction_prefix: str = r\"(?<=(?<!(_\\w*))\"): \n",
    "#     indiv_regexp = [instruction_prefix + instruction + \")\" for instruction in instructions]\n",
    "#     joined_instruction_regexp = \"|\".join(indiv_regexp)\n",
    "#     split_regexp = joined_instruction_regexp + register_regexp\n",
    "#     return split_regexp\n",
    "    \n",
    "# def split_regex(instructions: List[str], \n",
    "#                 register_regexp: str = r\"(?<=\\%\\w{2,5})(?=,)|(?<=\\s)(?=\\%\\w{2,5})|(?<=\\%\\w{2,5})(?=\\s)|(?<=\\%\\w{2,5})(?=\\))|(?<=\\()(?=\\%)\", \n",
    "#                 instruction_prefix: str = r\"(?<=(?<!(_\\w*))\"): \n",
    "#     indiv_regexp = [instruction_prefix + instruction + \")\" for instruction in instructions]\n",
    "#     joined_instruction_regexp = \"|\".join(indiv_regexp)\n",
    "#     split_regexp = joined_instruction_regexp + register_regexp\n",
    "#     return split_regexp\n",
    "    \n"
   ]
  }
 ],
 "metadata": {
  "kernelspec": {
   "display_name": "Python 3",
   "language": "python",
   "name": "python3"
  },
  "language_info": {
   "codemirror_mode": {
    "name": "ipython",
    "version": 3
   },
   "file_extension": ".py",
   "mimetype": "text/x-python",
   "name": "python",
   "nbconvert_exporter": "python",
   "pygments_lexer": "ipython3",
   "version": "3.7.3"
  }
 },
 "nbformat": 4,
 "nbformat_minor": 2
}
